{
 "cells": [
  {
   "cell_type": "code",
   "execution_count": 43,
   "metadata": {},
   "outputs": [
    {
     "name": "stdout",
     "output_type": "stream",
     "text": [
      "[3, 4, 5, 7, 8, 0]\n",
      "{'3': 3, '5': 5, '1': 0, '0': 8}\n"
     ]
    }
   ],
   "source": [
    "# play random songs \n",
    "\n",
    "# Approach 1 \n",
    "import random \n",
    "\n",
    "import resource\n",
    "import time\n",
    "\n",
    "#list of songs \n",
    "songs=[3,4,5,7,8,0]\n",
    "\n",
    "# generate random number for each song \n",
    "to_play={str(random.randint(0,len(songs)-1)): song  for song in songs }\n",
    "# for i in range(len(songs)):\n",
    "\n",
    "#     random.randint(0,len(songs))\n",
    "play= [*to_play]\n",
    "\n",
    "print(songs)\n",
    "print(to_play)"
   ]
  },
  {
   "cell_type": "code",
   "execution_count": 46,
   "metadata": {},
   "outputs": [],
   "source": [
    "random.shuffle(songs)"
   ]
  },
  {
   "cell_type": "code",
   "execution_count": 47,
   "metadata": {},
   "outputs": [
    {
     "data": {
      "text/plain": [
       "[7, 3, 0, 5, 4, 8]"
      ]
     },
     "execution_count": 47,
     "metadata": {},
     "output_type": "execute_result"
    }
   ],
   "source": [
    "songs=[3,4,5,7,8,0]\n",
    "songs"
   ]
  },
  {
   "cell_type": "code",
   "execution_count": 68,
   "metadata": {},
   "outputs": [
    {
     "name": "stdout",
     "output_type": "stream",
     "text": [
      "[4, 6, 9, 0]\n",
      "[0, 6, 9, 4]\n"
     ]
    }
   ],
   "source": [
    "def play_random_songs(li:list):\n",
    "    # li=[3,4,5,7,8,0]\n",
    "    play_shuffle= li[:]\n",
    "    random.shuffle(play_shuffle)\n",
    "    print(li)\n",
    "    print(play_shuffle)\n",
    "\n",
    "play_random_songs(li=[4,6,9,0])"
   ]
  },
  {
   "cell_type": "code",
   "execution_count": 75,
   "metadata": {},
   "outputs": [],
   "source": [
    "class Song:\n",
    "\n",
    "    def shuffle_key(self,key:int):\n",
    "        Song.shuffle_key=key\n"
   ]
  },
  {
   "cell_type": "code",
   "execution_count": 71,
   "metadata": {},
   "outputs": [],
   "source": [
    "sorry=Song()"
   ]
  },
  {
   "cell_type": "code",
   "execution_count": 72,
   "metadata": {},
   "outputs": [
    {
     "data": {
      "text/plain": [
       "__main__.Song"
      ]
     },
     "execution_count": 72,
     "metadata": {},
     "output_type": "execute_result"
    }
   ],
   "source": [
    "type(sorry)"
   ]
  },
  {
   "cell_type": "code",
   "execution_count": 77,
   "metadata": {},
   "outputs": [
    {
     "ename": "AttributeError",
     "evalue": "'Song' object has no attribute 'key'",
     "output_type": "error",
     "traceback": [
      "\u001b[0;31m---------------------------------------------------------------------------\u001b[0m",
      "\u001b[0;31mAttributeError\u001b[0m                            Traceback (most recent call last)",
      "Input \u001b[0;32mIn [77]\u001b[0m, in \u001b[0;36m<cell line: 1>\u001b[0;34m()\u001b[0m\n\u001b[0;32m----> 1\u001b[0m sorry\u001b[39m.\u001b[39;49mkey(\u001b[39m4\u001b[39m)\n",
      "\u001b[0;31mAttributeError\u001b[0m: 'Song' object has no attribute 'key'"
     ]
    }
   ],
   "source": [
    "sorry.key(4)"
   ]
  },
  {
   "cell_type": "code",
   "execution_count": null,
   "metadata": {},
   "outputs": [],
   "source": []
  }
 ],
 "metadata": {
  "interpreter": {
   "hash": "b0fa6594d8f4cbf19f97940f81e996739fb7646882a419484c72d19e05852a7e"
  },
  "kernelspec": {
   "display_name": "Python 3.9.12 64-bit",
   "language": "python",
   "name": "python3"
  },
  "language_info": {
   "codemirror_mode": {
    "name": "ipython",
    "version": 3
   },
   "file_extension": ".py",
   "mimetype": "text/x-python",
   "name": "python",
   "nbconvert_exporter": "python",
   "pygments_lexer": "ipython3",
   "version": "3.9.12"
  },
  "orig_nbformat": 4
 },
 "nbformat": 4,
 "nbformat_minor": 2
}
