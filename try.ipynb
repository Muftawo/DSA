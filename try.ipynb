{
 "cells": [
  {
   "cell_type": "code",
   "execution_count": 43,
   "metadata": {},
   "outputs": [
    {
     "name": "stdout",
     "output_type": "stream",
     "text": [
      "[3, 4, 5, 7, 8, 0]\n",
      "{'3': 3, '5': 5, '1': 0, '0': 8}\n"
     ]
    }
   ],
   "source": [
    "# play random songs \n",
    "\n",
    "# Approach 1 \n",
    "import random \n",
    "\n",
    "import resource\n",
    "import time\n",
    "\n",
    "#list of songs \n",
    "songs=[3,4,5,7,8,0]\n",
    "\n",
    "# generate random number for each song \n",
    "to_play={str(random.randint(0,len(songs)-1)): song  for song in songs }\n",
    "# for i in range(len(songs)):\n",
    "\n",
    "#     random.randint(0,len(songs))\n",
    "play= [*to_play]\n",
    "\n",
    "print(songs)\n",
    "print(to_play)"
   ]
  },
  {
   "cell_type": "code",
   "execution_count": 46,
   "metadata": {},
   "outputs": [],
   "source": [
    "random.shuffle(songs)"
   ]
  },
  {
   "cell_type": "code",
   "execution_count": 47,
   "metadata": {},
   "outputs": [
    {
     "data": {
      "text/plain": [
       "[7, 3, 0, 5, 4, 8]"
      ]
     },
     "execution_count": 47,
     "metadata": {},
     "output_type": "execute_result"
    }
   ],
   "source": [
    "songs=[3,4,5,7,8,0]\n",
    "songs"
   ]
  },
  {
   "cell_type": "code",
   "execution_count": 68,
   "metadata": {},
   "outputs": [
    {
     "name": "stdout",
     "output_type": "stream",
     "text": [
      "[4, 6, 9, 0]\n",
      "[0, 6, 9, 4]\n"
     ]
    }
   ],
   "source": [
    "def play_random_songs(li:list):\n",
    "    # li=[3,4,5,7,8,0]\n",
    "    play_shuffle= li[:]\n",
    "    random.shuffle(play_shuffle)\n",
    "    print(li)\n",
    "    print(play_shuffle)\n",
    "\n",
    "play_random_songs(li=[4,6,9,0])"
   ]
  },
  {
   "cell_type": "code",
   "execution_count": 1,
   "metadata": {},
   "outputs": [],
   "source": [
    "from pydantic import BaseModel\n",
    "import random\n",
    "\n",
    "class Song:\n",
    "    def __init__(self, order:int):\n",
    "        self.order = order\n",
    "        self.shuffle_key = random.randint(0,100)\n",
    "\n",
    "\n",
    "    def __repr__(self):\n",
    "        return f'<Song {self.order}>'\n",
    "\n",
    "\n"
   ]
  },
  {
   "cell_type": "code",
   "execution_count": null,
   "metadata": {},
   "outputs": [],
   "source": []
  },
  {
   "cell_type": "code",
   "execution_count": null,
   "metadata": {},
   "outputs": [],
   "source": [
    "class Person(BaseModel):\n",
    "    name: str\n",
    "    age: int\n",
    "    address: str"
   ]
  },
  {
   "cell_type": "code",
   "execution_count": 4,
   "metadata": {},
   "outputs": [],
   "source": [
    "Songs=[1,13,54,4,6,7]\n",
    "\n",
    "# Songs=[Song(song).sort(key=lambda x:x.shuffle_key) for song in Songs]\n",
    "  "
   ]
  },
  {
   "cell_type": "code",
   "execution_count": 13,
   "metadata": {},
   "outputs": [],
   "source": [
    "sorry= Song(2)"
   ]
  },
  {
   "cell_type": "code",
   "execution_count": 6,
   "metadata": {},
   "outputs": [
    {
     "ename": "ValueError",
     "evalue": "\"Song\" object has no field \"name\"",
     "output_type": "error",
     "traceback": [
      "\u001b[0;31m---------------------------------------------------------------------------\u001b[0m",
      "\u001b[0;31mValueError\u001b[0m                                Traceback (most recent call last)",
      "\u001b[1;32m/Users/mufti/Muftawo/DSA/try.ipynb Cell 8'\u001b[0m in \u001b[0;36m<cell line: 1>\u001b[0;34m()\u001b[0m\n\u001b[0;32m----> <a href='vscode-notebook-cell:/Users/mufti/Muftawo/DSA/try.ipynb#ch0000007?line=0'>1</a>\u001b[0m sorry\u001b[39m=\u001b[39m Song(\u001b[39m2\u001b[39;49m)\n",
      "\u001b[1;32m/Users/mufti/Muftawo/DSA/try.ipynb Cell 5'\u001b[0m in \u001b[0;36mSong.__init__\u001b[0;34m(self, name)\u001b[0m\n\u001b[1;32m      <a href='vscode-notebook-cell:/Users/mufti/Muftawo/DSA/try.ipynb#ch0000004?line=4'>5</a>\u001b[0m \u001b[39mdef\u001b[39;00m \u001b[39m__init__\u001b[39m(\u001b[39mself\u001b[39m, name:\u001b[39mint\u001b[39m):\n\u001b[0;32m----> <a href='vscode-notebook-cell:/Users/mufti/Muftawo/DSA/try.ipynb#ch0000004?line=5'>6</a>\u001b[0m     \u001b[39mself\u001b[39m\u001b[39m.\u001b[39mname \u001b[39m=\u001b[39m name\n\u001b[1;32m      <a href='vscode-notebook-cell:/Users/mufti/Muftawo/DSA/try.ipynb#ch0000004?line=6'>7</a>\u001b[0m     \u001b[39mself\u001b[39m\u001b[39m.\u001b[39mshuffle_key \u001b[39m=\u001b[39m random\u001b[39m.\u001b[39mrandomint(\u001b[39m0\u001b[39m,\u001b[39m100\u001b[39m)\n",
      "File \u001b[0;32m~/miniconda3/envs/home/lib/python3.8/site-packages/pydantic/main.py:357\u001b[0m, in \u001b[0;36mpydantic.main.BaseModel.__setattr__\u001b[0;34m()\u001b[0m\n",
      "\u001b[0;31mValueError\u001b[0m: \"Song\" object has no field \"name\""
     ]
    }
   ],
   "source": []
  },
  {
   "cell_type": "code",
   "execution_count": 1,
   "metadata": {},
   "outputs": [
    {
     "data": {
      "text/plain": [
       "<Figure size 432x288 with 0 Axes>"
      ]
     },
     "metadata": {},
     "output_type": "display_data"
    }
   ],
   "source": [
    "import random\n",
    "from itertools import count\n",
    "import pandas as pd\n",
    "import matplotlib.pyplot as plt\n",
    "from matplotlib.animation import FuncAnimation\n",
    "\n",
    "plt.style.use('fivethirtyeight')\n",
    "\n",
    "x_vals = []\n",
    "y_vals = []\n",
    "\n",
    "index = count()\n",
    "\n",
    "\n",
    "def animate(i):\n",
    "    data = pd.read_csv('data.csv')\n",
    "    x = data['x_value']\n",
    "    y1 = data['total_1']\n",
    "    y2 = data['total_2']\n",
    "\n",
    "    plt.cla()\n",
    "\n",
    "    plt.plot(x, y1, label='Channel 1')\n",
    "    plt.plot(x, y2, label='Channel 2')\n",
    "\n",
    "    plt.legend(loc='upper left')\n",
    "    plt.tight_layout()\n",
    "\n",
    "\n",
    "ani = FuncAnimation(plt.gcf(), animate, interval=1000)\n",
    "\n",
    "plt.tight_layout()\n",
    "plt.show()"
   ]
  },
  {
   "cell_type": "code",
   "execution_count": 7,
   "metadata": {},
   "outputs": [
    {
     "data": {
      "text/plain": [
       "'15:32:34'"
      ]
     },
     "execution_count": 7,
     "metadata": {},
     "output_type": "execute_result"
    }
   ],
   "source": [
    "import time\n",
    "t=time.localtime()\n",
    "time.strftime(\"%H:%M:%S\", t)"
   ]
  },
  {
   "cell_type": "code",
   "execution_count": 9,
   "metadata": {},
   "outputs": [
    {
     "name": "stdout",
     "output_type": "stream",
     "text": [
      "Current Time = 15:34:31\n"
     ]
    }
   ],
   "source": [
    "from datetime import datetime\n",
    "# now = datetime.now()\n",
    "\n",
    "current_time = datetime.now().strftime(\"%H:%M:%S\")\n",
    "print(\"Current Time =\", current_time)"
   ]
  },
  {
   "cell_type": "code",
   "execution_count": null,
   "metadata": {},
   "outputs": [],
   "source": []
  }
 ],
 "metadata": {
  "interpreter": {
   "hash": "dad69d25d7dd234d0c84790b765d77e7ff9d4fcba2c5519ae5fc79316fff4ebc"
  },
  "kernelspec": {
   "display_name": "Python 3.8.11 ('home')",
   "language": "python",
   "name": "python3"
  },
  "language_info": {
   "codemirror_mode": {
    "name": "ipython",
    "version": 3
   },
   "file_extension": ".py",
   "mimetype": "text/x-python",
   "name": "python",
   "nbconvert_exporter": "python",
   "pygments_lexer": "ipython3",
   "version": "3.8.11"
  }
 },
 "nbformat": 4,
 "nbformat_minor": 2
}
