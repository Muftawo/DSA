{
 "cells": [
  {
   "cell_type": "code",
   "execution_count": 2,
   "id": "4255399b",
   "metadata": {},
   "outputs": [
    {
     "name": "stdout",
     "output_type": "stream",
     "text": [
      "[0, 0, 1, 0, 1, 0, 0, 1, 0, 1]\n"
     ]
    },
    {
     "data": {
      "text/plain": [
       "4"
      ]
     },
     "execution_count": 2,
     "metadata": {},
     "output_type": "execute_result"
    }
   ],
   "source": [
    "def coins_reversal(A):\n",
    "    \"\"\"\n",
    "    Reverse the coins to get alternative heads and tails.\n",
    "\n",
    "    :param list A: list of heads and tails of coins\n",
    "    :return: number of coins to reverse to get alternative heads and tails\n",
    "    \"\"\"\n",
    "    if len(A) == 1:\n",
    "        print(0)\n",
    "    result = 0\n",
    "    NEW_A = A.copy()\n",
    "    for i in range(0, len(A) - 1):\n",
    "        if NEW_A[i] == 0 and NEW_A[i+1] == 0:\n",
    "            result += 1\n",
    "            if NEW_A[i - 1] == 0:\n",
    "                NEW_A[i] = 1\n",
    "            else:\n",
    "                NEW_A[i + 1] = 1\n",
    "        elif NEW_A[i] == 1 and NEW_A[i+1] == 1:\n",
    "            result += 1\n",
    "            if NEW_A[i - 1] == 1:\n",
    "                NEW_A[i] = 0\n",
    "            else:\n",
    "                NEW_A[i + 1] = 0\n",
    "    print(NEW_A)\n",
    "    return result\n",
    "\n",
    "coins_reversal([0,0,1,0,1,1,0,1,1,1])"
   ]
  },
  {
   "cell_type": "code",
   "execution_count": 5,
   "id": "a1001ee2",
   "metadata": {},
   "outputs": [
    {
     "data": {
      "text/plain": [
       "False"
      ]
     },
     "execution_count": 5,
     "metadata": {},
     "output_type": "execute_result"
    }
   ],
   "source": [
    "# def reversCoins(A:list):\n",
    "\n",
    "\n",
    "\"ddhdhd\".__contains__(\"6\")\n",
    "\n",
    "\n",
    "    \n"
   ]
  },
  {
   "cell_type": "code",
   "execution_count": 2,
   "id": "9c65f3d8",
   "metadata": {},
   "outputs": [
    {
     "data": {
      "text/plain": [
       "'j bn'"
      ]
     },
     "execution_count": 2,
     "metadata": {},
     "output_type": "execute_result"
    }
   ],
   "source": [
    "def ceaserChiper(str:str, k:int):\n",
    "\n",
    "    result=''\n",
    "    for char in str:\n",
    "        if char.isupper():\n",
    "            result+= chr(((ord(char) - 65 + k )% 26)+ 65)\n",
    "        elif char.islower():\n",
    "            result+= chr((ord(char )- 97 +k)% 26+ 97)\n",
    "        else:\n",
    "            result+=char\n",
    "\n",
    "\n",
    "    \n",
    "    return result\n",
    "\n",
    "ceaserChiper(\"i am\",1)"
   ]
  },
  {
   "cell_type": "code",
   "execution_count": null,
   "id": "271cfc9f",
   "metadata": {},
   "outputs": [],
   "source": [
    "#plusMinus\n",
    "def plusMinus(arr):\n",
    "    # Write your code here\n",
    "    n = len(arr)\n",
    "    n_pstive= len([x for x in  arr if x>0 ])\n",
    "    n_negtive= len([x for x in  arr if x<0 ])\n",
    "    n_zero = len([x for x in  arr if x==0])\n",
    "\n",
    "    ratio_pstive = n_pstive/n\n",
    "    ratio_negtive = n_negtive/n \n",
    "    ratio_zero = n_zero/n \n",
    "    \n",
    "    # assert (ratio_pstive+ ratio_negtive + ratio_zero == 1)\n",
    "    \n",
    "    print(ratio_pstive)\n",
    "    print(ratio_negtive)\n",
    "    print(ratio_zero)"
   ]
  },
  {
   "cell_type": "code",
   "execution_count": 9,
   "id": "18265d2a",
   "metadata": {},
   "outputs": [
    {
     "name": "stdout",
     "output_type": "stream",
     "text": [
      "[2, 3, 4, 5]\n",
      "[1, 2, 3, 4]\n"
     ]
    }
   ],
   "source": [
    "def miniMaxSum(arr):\n",
    "    # Write your code here\n",
    "    assert len(arr)== 5\n",
    "    arr_min= arr[:]\n",
    "    arr_max= arr[:]\n",
    "    \n",
    "    arr_min.remove(max(arr))\n",
    "    arr_max.remove(min(arr))\n",
    "\n",
    "    print(arr_max)\n",
    "    print(arr_min)\n",
    "\n",
    "miniMaxSum([1,2,3,4,5])"
   ]
  },
  {
   "cell_type": "code",
   "execution_count": null,
   "id": "26ccce6e",
   "metadata": {},
   "outputs": [],
   "source": [
    "\n",
    "def timeConversion(s):\n",
    "    # Write your code here\n",
    "    if s[-2:] == \"AM\":\n",
    "        if s[:2] == '12':\n",
    "            result = str(\"00\" +s [2:8])\n",
    "        else:\n",
    "            result = s[:-2]\n",
    "    else:\n",
    "        if s[:2] == \"12\":\n",
    "            result =s[:-2]\n",
    "        else:\n",
    "            result =str(int(s[:2])+12) + s[2:8]\n",
    "                \n",
    "    return result\n"
   ]
  },
  {
   "cell_type": "code",
   "execution_count": null,
   "id": "61b5b30a",
   "metadata": {},
   "outputs": [],
   "source": [
    "#median of array\n",
    "def findMedian(arr):\n",
    "    # Write your code here\n",
    "    arr.sort()\n",
    "    if len(arr)%2 == 0:\n",
    "        return (arr[len(arr)//2] + arr[len(arr)//2-1])/2\n",
    "    else:\n",
    "        return arr[len(arr)//2]"
   ]
  },
  {
   "cell_type": "code",
   "execution_count": null,
   "id": "0a607339",
   "metadata": {},
   "outputs": [],
   "source": [
    "#lonly integer : the only interger that occurrs once in the array\n",
    "def lonelyinteger(a):\n",
    "    # Write your code here\n",
    "    set_a = set(a)\n",
    "    for i in set_a:\n",
    "        if a.count(i)==1:\n",
    "            return i\n",
    "    \n",
    "    \n",
    "\n",
    " "
   ]
  },
  {
   "cell_type": "code",
   "execution_count": null,
   "id": "2f3c9aa7",
   "metadata": {},
   "outputs": [],
   "source": [
    "#given a square matrix, calculate the absolute difference between the sums of its diagonals\n",
    "def diagonalDifference(arr):\n",
    "    # Write your code here\n",
    "    n = len(arr)\n",
    "    sum_diag1 = 0\n",
    "    sum_diag2 = 0\n",
    "    for i in range(n):\n",
    "        sum_diag1 += arr[i][i]\n",
    "        sum_diag2 += arr[i][n-i-1]\n",
    "    return abs(sum_diag1 - sum_diag2)\n",
    "\n",
    "def diagonalDifference(arr):\n",
    "    # Write your code here\n",
    "   left_diag = []\n",
    "   right_diag =[]\n",
    "   ele= 0\n",
    "   n = len(arr) -1\n",
    "   for ls in arr:\n",
    "    left_diag.append(arr[ele][ele])\n",
    "    right_diag.append(arr[ele][n-ele])\n",
    "    ele +=1  \n",
    "    \n",
    "   result = abs(sum(right_diag)- sum(left_diag))\n",
    "   print(right_diag, left_diag)\n",
    "   return result"
   ]
  },
  {
   "cell_type": "code",
   "execution_count": 26,
   "id": "0662fe50",
   "metadata": {},
   "outputs": [
    {
     "name": "stdout",
     "output_type": "stream",
     "text": [
      "[0, 3, 1, 1]\n"
     ]
    },
    {
     "data": {
      "text/plain": [
       "[1, 1, 1, 2, 3]"
      ]
     },
     "execution_count": 26,
     "metadata": {},
     "output_type": "execute_result"
    }
   ],
   "source": [
    "#counting sort \n",
    "def countSort(arr):\n",
    "    # Write your code here\n",
    "    n = len(arr)\n",
    "    max_val= max(arr)\n",
    "    count = [0] * (max_val +1)\n",
    "    for i in range(n):\n",
    "        count[arr[i]] +=1\n",
    "    for i in range(1,(max_val +1)):\n",
    "        count[i] += count[i-1]\n",
    "    result = [0]*n\n",
    "    for i in range(n):\n",
    "        result[count[arr[i]]-1] = arr[i]\n",
    "        count[arr[i]] -=1\n",
    "    return result\n",
    "\n",
    "def countingsort(arr):\n",
    "    # Write your code here\n",
    "    max_val= max(arr)\n",
    "    freq = [0] * (max_val +1)\n",
    "    for i in arr:\n",
    "        freq[i]+=1\n",
    "    \n",
    "    assert type(freq)== list \n",
    "    \n",
    "    return freq\n",
    "\n",
    "arr= [1,1,3,2,1]\n",
    "print(countingsort(arr))\n",
    "countSort(arr)"
   ]
  },
  {
   "cell_type": "code",
   "execution_count": 30,
   "id": "55569a0c",
   "metadata": {},
   "outputs": [
    {
     "name": "stdout",
     "output_type": "stream",
     "text": [
      "54\n"
     ]
    }
   ],
   "source": [
    "#flippig matrix\n",
    "def flippingMatrix(matrix):\n",
    "    n = len(matrix)\n",
    "    s = 0\n",
    "    for i in range(n//2):\n",
    "        for j in range(n//2):\n",
    "            s += max(matrix[i][j], matrix[i][n-j-1], matrix[n-i-1][j], matrix[n-i-1][n-j-1])\n",
    "    return s\n",
    "\n",
    "#flipping matrix\n",
    "matrix = [[1,2,3,4],[5,6,7,8],[9,10,11,12],[13,14,15,16]]\n",
    "print(flippingMatrix(matrix))\n",
    "\n"
   ]
  },
  {
   "cell_type": "code",
   "execution_count": null,
   "id": "fa574147",
   "metadata": {},
   "outputs": [],
   "source": []
  },
  {
   "cell_type": "markdown",
   "id": "5cf2ea9d",
   "metadata": {},
   "source": []
  },
  {
   "cell_type": "code",
   "execution_count": null,
   "id": "d9a73bb2",
   "metadata": {},
   "outputs": [],
   "source": [
    "# Complete the 'superDigit' function below.\n",
    "#\n",
    "# The function is expected to return an INTEGER.\n",
    "# The function accepts following parameters:\n",
    "#  1. STRING n\n",
    "#  2. INTEGER k\n",
    "#\n",
    "\n",
    "def superDigit(n, k):\n",
    "    # Write your code here\n",
    "    assert type(n) == str\n",
    "    assert type(k) == int\n",
    "    # p = n*k\n",
    "    # # p =int(p)\n",
    "    # if int(p)//10 == 0:\n",
    "    #     return int(p) \n",
    "    # else:\n",
    "    #     p=sum(int(i) for i in p)\n",
    "    #     return  superDigit(str(p),k=1)\n",
    "    def sum_digit(v):\n",
    "        if v < 10 :\n",
    "            return v\n",
    "        s = sum(int(x) for x in str(v))\n",
    "        return sum_digit(s)\n",
    "    x= sum_digit(int(n))\n",
    "    return sum_digit(x*k)"
   ]
  },
  {
   "cell_type": "code",
   "execution_count": 48,
   "id": "5446efc6",
   "metadata": {},
   "outputs": [],
   "source": [
    "def caesarCipher(s, k):\n",
    "    # Write your code here\n",
    "    result= ''\n",
    "    for i in s:\n",
    "        if i.isupper():\n",
    "            result+= chr((ord(i)+k-65)% 26+ 65)\n",
    "        elif i.islower():\n",
    "            result+= chr((ord(i)+k-97)% 26+ 97)\n",
    "        else:\n",
    "            result+=i\n",
    "            \n",
    "    return result\n",
    "    \n",
    "\n",
    "  "
   ]
  },
  {
   "cell_type": "code",
   "execution_count": null,
   "id": "89f1f434",
   "metadata": {},
   "outputs": [],
   "source": [
    "import math\n",
    "def solution(n):\n",
    "    # Type your solution here \n",
    "    result=[ ]\n",
    "    for num in range(2,n):\n",
    "      if is_prime(num) and is_fib(num):\n",
    "        result.append(num)\n",
    "    return result\n",
    "\n",
    "def is_square(i):\n",
    "  sqr= int(math.sqrt(i))\n",
    "  return sqr*sqr == i\n",
    "\n",
    "def is_fib(n):\n",
    "  return is_square(5*n*n +4) or is_square(5*n*n -4)\n",
    "\n",
    "def is_prime(num):\n",
    "  for i in range(2,int(num/2)):\n",
    "    if (num%i)==0:\n",
    "      return False\n",
    "  return True"
   ]
  },
  {
   "cell_type": "code",
   "execution_count": null,
   "id": "4dc3cb91",
   "metadata": {},
   "outputs": [],
   "source": [
    "import math\n",
    "def solution(n):\n",
    "    # Type your solution here \n",
    "    result=[ ]\n",
    "    for num in first_n_fib(n):\n",
    "      if is_prime(num) :\n",
    "        result.append(num)\n",
    "    return result\n",
    "\n",
    "\n",
    "def first_n_fib(n):\n",
    "  fibs=[]\n",
    "  fib1=0\n",
    "  fib2=1\n",
    "  if  n< 1:\n",
    "    return fibs\n",
    "  fibs.append(fib1)\n",
    "  for i in range(1,n+1):\n",
    "     fibs.append(fib2)\n",
    "     next_fib= fib1+fib2\n",
    "     fib1=fib2\n",
    "     fib2= next_fib\n",
    "  return fibs\n",
    "\n",
    "\n",
    "\n",
    "def is_prime(num):\n",
    "  if num < 2 :\n",
    "    return False\n",
    "  for i in range(2,int(num/2)):\n",
    "    if (num%i)==0:\n",
    "      return False\n",
    "  return True\n"
   ]
  },
  {
   "cell_type": "code",
   "execution_count": 49,
   "id": "1499d26a",
   "metadata": {},
   "outputs": [],
   "source": [
    "def flip(matrix):\n",
    "    for i in range(len(matrix)):\n",
    "        matrix[i] = matrix[i][::-1]\n",
    "    return matrix"
   ]
  },
  {
   "cell_type": "code",
   "execution_count": 50,
   "id": "97a286c6",
   "metadata": {},
   "outputs": [
    {
     "data": {
      "text/plain": [
       "[[0, 1, 1], [1, 0, 1], [0, 0, 0]]"
      ]
     },
     "execution_count": 50,
     "metadata": {},
     "output_type": "execute_result"
    }
   ],
   "source": [
    "flip([[1,1,0],[1,0,1],[0,0,0]])"
   ]
  },
  {
   "cell_type": "code",
   "execution_count": 51,
   "id": "1f0f388e",
   "metadata": {},
   "outputs": [
    {
     "data": {
      "text/plain": [
       "122"
      ]
     },
     "execution_count": 51,
     "metadata": {},
     "output_type": "execute_result"
    }
   ],
   "source": [
    "import math as m  \n",
    "   \n",
    "# Here, we will create a utility function that will return true if K is a perfect square  \n",
    "def is_Perfect_Square(K):  \n",
    "    s = int(m.sqrt(K))  \n",
    "    return s * s == K  \n",
    "   \n",
    "# Now, we will create a function which will return \"true\" if R is a Fibinacci Number,   \n",
    "# else it will return \"false\"  \n",
    "def is_Fibonacci(R):  \n",
    "\n",
    "    # R is a Fibinacci number only if one of (5 * R * R + 4) or (5 * R * R - 4) or both   \n",
    "   # of them are perferct square  \n",
    "    return is_Perfect_Square(5 * R * R + 4) or is_Perfect_Square(5 * R * R - 4)  \n",
    "      \n",
    "# Now, we will create a utility function for testing the above functions  \n",
    "count=0\n",
    "for J in range(1, 22):  \n",
    "     if (is_Fibonacci(J) == True):  \n",
    "         print (\"Number:\", J, \": Yes, the given number is a Fibonacci_Number\")  \n",
    "         \n",
    "     else:  \n",
    "        #  print (\"Number:\", J, \": No, the given number is not a Fibonacci_Number\")  \n"
   ]
  },
  {
   "cell_type": "code",
   "execution_count": 113,
   "id": "aff4ee44",
   "metadata": {},
   "outputs": [
    {
     "data": {
      "text/plain": [
       "True"
      ]
     },
     "execution_count": 113,
     "metadata": {},
     "output_type": "execute_result"
    }
   ],
   "source": [
    "\n",
    "\n",
    "str = \"ASCIIWordSumwhy and how\"\n",
    "sumArr = []\n",
    "\n",
    "def ASCIIWordSum(str, sumArr):\n",
    "    l = len(str)\n",
    "    sum = 0\n",
    "    bigSum = 0\n",
    "    for i in range(l):\n",
    "        if (str[i] == ' '):\n",
    "            bigSum += sum\n",
    "            sumArr.append(sum)\n",
    "            sum = 0\n",
    "        else:\n",
    "            sum += ord(str[i])    \n",
    "    sumArr.append(sum)\n",
    "    bigSum += sum\n",
    "    return bigSum\n",
    "\n",
    "sum = ASCIIWordSum(str, sumArr)\n",
    "\n",
    "\n",
    "print(sum)\n",
    " "
   ]
  },
  {
   "cell_type": "code",
   "execution_count": 5,
   "id": "56abce67",
   "metadata": {},
   "outputs": [
    {
     "data": {
      "text/plain": [
       "'0x43'"
      ]
     },
     "execution_count": 5,
     "metadata": {},
     "output_type": "execute_result"
    }
   ],
   "source": [
    "import math as m \n",
    "\n",
    "def is_fib(num):  \n",
    "    def is_perfect_square(K):  \n",
    "        s = int(m.sqrt(K))  \n",
    "        return s * s == K  \n",
    "    return is_perfect_square(5 * num * num + 4) or is_perfect_square(5 * num * num - 4) \n",
    "\n",
    "\n",
    "def is_odd(num):\n",
    "    return num%3 ==0\n",
    "\n",
    "\n",
    "is_odd(12)\n",
    "\n",
    "\n",
    "\n",
    "\n",
    "count=0\n",
    "for i in range(10000):\n",
    "    if is_odd(i) and is_fib(i):\n",
    "        print(i)\n",
    "        count+=1\n",
    "        \n",
    "print(count)"
   ]
  },
  {
   "cell_type": "code",
   "execution_count": null,
   "id": "65d5eece",
   "metadata": {},
   "outputs": [],
   "source": [
    "def toRoman(num:int)-> str:\n",
    "    m = [\"\", \"M\", \"MM\", \"MMM\"]\n",
    "    c = [\"\", \"C\", \"CC\", \"CCC\", \"CD\", \"D\",\n",
    "         \"DC\", \"DCC\", \"DCCC\", \"CM \"]\n",
    "    x = [\"\", \"X\", \"XX\", \"XXX\", \"XL\", \"L\",\n",
    "         \"LX\", \"LXX\", \"LXXX\", \"XC\"]\n",
    "    i = [\"\", \"I\", \"II\", \"III\", \"IV\", \"V\",\n",
    "         \"VI\", \"VII\", \"VIII\", \"IX\"]\n",
    "  \n",
    "    # Converting to roman\n",
    "    thousands = m[num // 1000]\n",
    "    hundreds = c[(num % 1000) // 100]\n",
    "    tens = x[(num % 100) // 10]\n",
    "    ones = i[num % 10]\n",
    "  \n",
    "    ans = (thousands + hundreds +\n",
    "           tens + ones)\n",
    "  \n",
    "    return ans\n",
    "\n",
    "\n",
    "def count_X(num:int)-> int:    \n",
    "    count=0\n",
    "    for i in range(1,num+1):\n",
    "        i:str = toRoman(i)\n",
    "        \n",
    "        count+= i.count(\"X\")\n",
    "    return count\n",
    "        \n",
    "count_X(2660)"
   ]
  },
  {
   "cell_type": "code",
   "execution_count": 1,
   "id": "3f3eaf9d",
   "metadata": {},
   "outputs": [
    {
     "data": {
      "text/plain": [
       "'hhhtt'"
      ]
     },
     "execution_count": 1,
     "metadata": {},
     "output_type": "execute_result"
    }
   ],
   "source": [
    "s=\"ttthhh\"\n",
    "s[:0]+s[1:][::-1]"
   ]
  },
  {
   "cell_type": "code",
   "execution_count": 54,
   "id": "10c650ad",
   "metadata": {},
   "outputs": [
    {
     "data": {
      "text/plain": [
       "2"
      ]
     },
     "execution_count": 54,
     "metadata": {},
     "output_type": "execute_result"
    }
   ],
   "source": [
    "#new year chaos\n",
    "def minimumBribes(q):\n",
    "    # Write your code here\n",
    "    result = 0\n",
    "    for i in range(len(q)):\n",
    "        if q[i] - (i+1) > 2:\n",
    "            print(\"Too chaotic\")\n",
    "            return\n",
    "        for j in range(max(0,q[i]-2),i):\n",
    "            if q[j] > q[i]:\n",
    "                result += 1\n",
    "    print(result)"
   ]
  },
  {
   "cell_type": "code",
   "execution_count": 55,
   "id": "bf032500",
   "metadata": {},
   "outputs": [],
   "source": [
    "def calculate_storage(filesize):\n",
    "    blck_size= 4096\n",
    "    full_bls= filesize//blck_size +1\n",
    "    part_blk_rm =filesize % blck_size\n",
    "\n",
    "    if part_blk_rm > 0:\n",
    "        return blck_size*full_bls\n",
    "    return blck_size"
   ]
  },
  {
   "cell_type": "code",
   "execution_count": 56,
   "id": "0958c755",
   "metadata": {},
   "outputs": [
    {
     "data": {
      "text/plain": [
       "61440"
      ]
     },
     "execution_count": 56,
     "metadata": {},
     "output_type": "execute_result"
    }
   ],
   "source": [
    "calculate_storage(60000)"
   ]
  },
  {
   "cell_type": "code",
   "execution_count": 57,
   "id": "3130366e",
   "metadata": {},
   "outputs": [],
   "source": [
    "#fractional part\n",
    "def fractional_part(numerator, denominator):\n",
    "    if denominator == 0:\n",
    "        return 0\n",
    "    return numerator/denominator - numerator//denominator"
   ]
  },
  {
   "cell_type": "code",
   "execution_count": 58,
   "id": "b52fa957",
   "metadata": {},
   "outputs": [
    {
     "data": {
      "text/plain": [
       "0.25"
      ]
     },
     "execution_count": 58,
     "metadata": {},
     "output_type": "execute_result"
    }
   ],
   "source": [
    "fractional_part(5,4)"
   ]
  },
  {
   "cell_type": "code",
   "execution_count": 59,
   "id": "ec727bff",
   "metadata": {},
   "outputs": [],
   "source": [
    "data={\n",
    "    \"total_swap_sations\":100,\n",
    "    \"public\":20,\n",
    "    \"private\":80,\n",
    "    \"riders\":50,\n",
    "    \"total_battery\":200,\n",
    "    \"total_swaps\":50,\n",
    "    \"total_distance\":8000,\n",
    "    \"Avg_distance_brfore_swap\":100,\n",
    "}\n"
   ]
  },
  {
   "cell_type": "code",
   "execution_count": 116,
   "id": "845acd19",
   "metadata": {
    "vscode": {
     "languageId": "javascript"
    }
   },
   "outputs": [],
   "source": [
    "function sum(max) {\n",
    "    let count = 0;\n",
    "    for (let i = 1; i <= max; i++) {\n",
    "      const roman = toRoman(i);\n",
    "      roman.replace(/X/g, () => {\n",
    "        count++;\n",
    "      });\n",
    "    }\n",
    "  \n",
    "    return count;\n",
    "  \n",
    "    function toRoman(num) {\n",
    "      if (typeof num !== \"number\") throw Error();\n",
    "  \n",
    "      const digits = String(num).split(\"\");\n",
    "      const key = [\n",
    "        \"\",\n",
    "        \"C\",\n",
    "        \"CC\",\n",
    "        \"CCC\",\n",
    "        \"CD\",\n",
    "        \"D\",\n",
    "        \"DC\",\n",
    "        \"DCC\",\n",
    "        \"DCCC\",\n",
    "        \"CM\",\n",
    "        \"\",\n",
    "        \"X\",\n",
    "        \"XX\",\n",
    "        \"XXX\",\n",
    "        \"XL\",\n",
    "        \"L\",\n",
    "        \"LX\",\n",
    "        \"LXX\",\n",
    "        \"LXXX\",\n",
    "        \"XC\",\n",
    "        \"\",\n",
    "        \"I\",\n",
    "        \"II\",\n",
    "        \"III\",\n",
    "        \"IV\",\n",
    "        \"V\",\n",
    "        \"VI\",\n",
    "        \"VII\",\n",
    "        \"VIII\",\n",
    "        \"IX\"\n",
    "      ];\n",
    "      let roman_num = \"\";\n",
    "      let i = 3;\n",
    "      while (i--) {\n",
    "        roman_num = (key[+digits.pop() + i * 10] || \"\") + roman_num;\n",
    "      }\n",
    "      return Array(+digits.join(\"\") + 1).join(\"M\") + roman_num;\n",
    "    }\n",
    "}\n",
    "  "
   ]
  },
  {
   "cell_type": "code",
   "execution_count": null,
   "id": "e3f411a4",
   "metadata": {},
   "outputs": [],
   "source": []
  },
  {
   "cell_type": "code",
   "execution_count": 83,
   "id": "02589c59",
   "metadata": {},
   "outputs": [
    {
     "name": "stdout",
     "output_type": "stream",
     "text": [
      "['a', 'b', 'c']\n",
      "['a', 'd', 'e']\n",
      "['e', 'f', 'g']\n"
     ]
    }
   ],
   "source": [
    "grid =['abc','ade','efg']\n",
    "for line in grid:\n",
    "    print(sorted([chr(ord(line[i])) for i in range(len(line))]))\n",
    "    # print([chr(ord(line[i])) for i in range(len(line))])"
   ]
  },
  {
   "cell_type": "code",
   "execution_count": 66,
   "id": "c34f5fed",
   "metadata": {},
   "outputs": [],
   "source": [
    "def gridchallenge(grid):\n",
    "    for line in grid:\n",
    "    #row\n",
    "        if [ord(x) for x in line] != sorted([ord(x) for x in line]):\n",
    "            return False\n",
    "        elif [ord(line[i]) for i in range(len(line))] != sorted([ord(line[i]) for i in range(len(line))]):\n",
    "            return False\n",
    "    return True"
   ]
  },
  {
   "cell_type": "code",
   "execution_count": 92,
   "id": "dd8e55a2",
   "metadata": {},
   "outputs": [
    {
     "name": "stdout",
     "output_type": "stream",
     "text": [
      "['a', 'b', 'c']\n",
      "['a', 'd', 'e']\n",
      "['e', 'f', 'g']\n",
      "['a', 'a', 'e']\n",
      "['a', 'a', 'e']\n",
      "['b', 'd', 'f']\n",
      "['b', 'd', 'f']\n",
      "['c', 'e', 'g']\n",
      "['c', 'e', 'g']\n"
     ]
    }
   ],
   "source": [
    "r= len(grid)\n",
    "c= len(grid[0])\n",
    "\n",
    "# row \n",
    "for i in range(r):\n",
    "     print(list(grid[i]))\n",
    "# col\n",
    "for j in range(r):\n",
    "     print([grid[i][j] for i in range(c)])\n",
    "     print(sorted([grid[i][j] for i in range(c)]))\n",
    "     "
   ]
  },
  {
   "cell_type": "code",
   "execution_count": 100,
   "id": "63b8d768",
   "metadata": {},
   "outputs": [
    {
     "data": {
      "text/plain": [
       "'YES'"
      ]
     },
     "execution_count": 100,
     "metadata": {},
     "output_type": "execute_result"
    }
   ],
   "source": [
    "gridchallenge(['abc','ade','efg'])"
   ]
  },
  {
   "cell_type": "code",
   "execution_count": 69,
   "id": "d03c69bf",
   "metadata": {},
   "outputs": [
    {
     "ename": "TypeError",
     "evalue": "'str' object cannot be interpreted as an integer",
     "output_type": "error",
     "traceback": [
      "\u001b[0;31m---------------------------------------------------------------------------\u001b[0m",
      "\u001b[0;31mTypeError\u001b[0m                                 Traceback (most recent call last)",
      "\u001b[1;32m/Users/mufti/Muftawo/HackerRank /HackerRank.ipynb Cell 17'\u001b[0m in \u001b[0;36m<module>\u001b[0;34m\u001b[0m\n\u001b[1;32m      <a href='vscode-notebook-cell:/Users/mufti/Muftawo/HackerRank%20/HackerRank.ipynb#ch0000014?line=3'>4</a>\u001b[0m     \u001b[39mprint\u001b[39m( \u001b[39mFalse\u001b[39;00m)\n\u001b[1;32m      <a href='vscode-notebook-cell:/Users/mufti/Muftawo/HackerRank%20/HackerRank.ipynb#ch0000014?line=4'>5</a>\u001b[0m \u001b[39m#column\u001b[39;00m\n\u001b[0;32m----> <a href='vscode-notebook-cell:/Users/mufti/Muftawo/HackerRank%20/HackerRank.ipynb#ch0000014?line=5'>6</a>\u001b[0m \u001b[39melif\u001b[39;00m [\u001b[39mord\u001b[39m(line\u001b[39m.\u001b[39mpop(i)) \u001b[39mfor\u001b[39;00m i \u001b[39min\u001b[39;00m line] \u001b[39m==\u001b[39m \u001b[39msorted\u001b[39m( [\u001b[39mord\u001b[39m(line\u001b[39m.\u001b[39mpop(i)) \u001b[39mfor\u001b[39;00m i \u001b[39min\u001b[39;00m line]):\n\u001b[1;32m      <a href='vscode-notebook-cell:/Users/mufti/Muftawo/HackerRank%20/HackerRank.ipynb#ch0000014?line=6'>7</a>\u001b[0m     \u001b[39mprint\u001b[39m( \u001b[39mFalse\u001b[39;00m)\n",
      "\u001b[1;32m/Users/mufti/Muftawo/HackerRank /HackerRank.ipynb Cell 17'\u001b[0m in \u001b[0;36m<listcomp>\u001b[0;34m(.0)\u001b[0m\n\u001b[1;32m      <a href='vscode-notebook-cell:/Users/mufti/Muftawo/HackerRank%20/HackerRank.ipynb#ch0000014?line=3'>4</a>\u001b[0m     \u001b[39mprint\u001b[39m( \u001b[39mFalse\u001b[39;00m)\n\u001b[1;32m      <a href='vscode-notebook-cell:/Users/mufti/Muftawo/HackerRank%20/HackerRank.ipynb#ch0000014?line=4'>5</a>\u001b[0m \u001b[39m#column\u001b[39;00m\n\u001b[0;32m----> <a href='vscode-notebook-cell:/Users/mufti/Muftawo/HackerRank%20/HackerRank.ipynb#ch0000014?line=5'>6</a>\u001b[0m \u001b[39melif\u001b[39;00m [\u001b[39mord\u001b[39m(line\u001b[39m.\u001b[39mpop(i)) \u001b[39mfor\u001b[39;00m i \u001b[39min\u001b[39;00m line] \u001b[39m==\u001b[39m \u001b[39msorted\u001b[39m( [\u001b[39mord\u001b[39m(line\u001b[39m.\u001b[39mpop(i)) \u001b[39mfor\u001b[39;00m i \u001b[39min\u001b[39;00m line]):\n\u001b[1;32m      <a href='vscode-notebook-cell:/Users/mufti/Muftawo/HackerRank%20/HackerRank.ipynb#ch0000014?line=6'>7</a>\u001b[0m     \u001b[39mprint\u001b[39m( \u001b[39mFalse\u001b[39;00m)\n",
      "\u001b[0;31mTypeError\u001b[0m: 'str' object cannot be interpreted as an integer"
     ]
    }
   ],
   "source": [
    "for line in [[\"a\",\"b\",\"c\"],[\"d\",\"e\",\"f\"],[\"g\",\"h\",\"i\"]]:\n",
    "    #row\n",
    "    if [ord(x) for x in line] != sorted([ord(x) for x in line]):\n",
    "        print( False)\n",
    "    #column\n",
    "    elif [ord(line.pop(i)) for i in line] == sorted( [ord(line.pop(i)) for i in line]):\n",
    "        print( False)\n",
    "\n"
   ]
  },
  {
   "cell_type": "code",
   "execution_count": 18,
   "id": "baf7c3a6",
   "metadata": {},
   "outputs": [
    {
     "name": "stdout",
     "output_type": "stream",
     "text": [
      "1 0\n",
      "2 0\n",
      "3 0\n",
      "4 0\n",
      "5 5\n",
      "6 6\n"
     ]
    },
    {
     "data": {
      "text/plain": [
       "11"
      ]
     },
     "execution_count": 18,
     "metadata": {},
     "output_type": "execute_result"
    }
   ],
   "source": [
    "def fare(A):\n",
    "    weekfare=7\n",
    "    dayfare=2\n",
    "    monthfare=25\n",
    "\n",
    "    N = len(A)\n",
    "    i,j=0,1\n",
    "    fare = 0\n",
    "\n",
    "    while i < N:\n",
    "        while j<N and A[j]-A[i]<=6:\n",
    "            print(j,i)\n",
    "            j+=1\n",
    "        if (j-i)*dayfare > weekfare:\n",
    "            fare+=weekfare\n",
    "            i=j\n",
    "        else:\n",
    "            fare+=dayfare\n",
    "            i+=1\n",
    "            \n",
    "    if fare<monthfare:\n",
    "        return fare\n",
    "    \n",
    "    return monthfare\n",
    "\n",
    "A= [1,2,4,5,7,29,47]\n",
    "fare(A)"
   ]
  },
  {
   "cell_type": "code",
   "execution_count": 23,
   "id": "bf823a0a",
   "metadata": {},
   "outputs": [
    {
     "name": "stdout",
     "output_type": "stream",
     "text": [
      "11\n",
      "\n"
     ]
    }
   ],
   "source": [
    "def main(days):\n",
    "    period = [0] * (max(days) + 1)\n",
    "    # days = set(days)\n",
    "    for i in range(1, len(period)):\n",
    "        if i in days:\n",
    "            # day 1 = the minimum( )\n",
    "            period[i] = min(period[max(i - 1, 0)] + 2, period[max(i - 7, 0)] + 7, period[max(i - 30, 0)] + 25)\n",
    "        else:\n",
    "            period[i] = period[i - 1]\n",
    "    return max(period)\n",
    "\n",
    "days =[1,2,4,5,7,29,30]\n",
    "print(main(days))\n",
    "# print(len(main(days)))\n",
    "print()"
   ]
  },
  {
   "cell_type": "code",
   "execution_count": 14,
   "id": "b981b54c",
   "metadata": {},
   "outputs": [
    {
     "name": "stdout",
     "output_type": "stream",
     "text": [
      "Original Nested list:\n",
      "[[1, 2, 3], [2, 4, 5], [1, 1, 1]]\n",
      "Extract 1st column:\n",
      "[1, 2, 1]\n",
      "\n",
      "Original Nested list:\n",
      "[[1, 2, 3], [-2, 4, -5], [1, -1, 1]]\n",
      "Extract 3rd column:\n",
      "[3, -5, 1]\n"
     ]
    }
   ],
   "source": [
    "def remove_column(nums, n):\n",
    "   result = [i.pop(n) for i in nums]\n",
    "   return result \n",
    "\n",
    "list1 = [[1, 2, 3], [2, 4, 5], [1, 1, 1]]\n",
    "n = 0\n",
    "print(\"Original Nested list:\")\n",
    "print(list1)\n",
    "print(\"Extract 1st column:\")\n",
    "print(remove_column(list1, n))\n",
    "\n",
    "list2 = [[1, 2, 3], [-2, 4, -5], [1, -1, 1]]\n",
    "n = 2\n",
    "print(\"\\nOriginal Nested list:\")\n",
    "print(list2)\n",
    "print(\"Extract 3rd column:\")\n",
    "print(remove_column(list2, n))"
   ]
  },
  {
   "cell_type": "code",
   "execution_count": 16,
   "id": "459f82d9",
   "metadata": {},
   "outputs": [
    {
     "data": {
      "text/plain": [
       "[0]"
      ]
     },
     "execution_count": 16,
     "metadata": {},
     "output_type": "execute_result"
    }
   ],
   "source": [
    "[0]*1"
   ]
  },
  {
   "cell_type": "code",
   "execution_count": 21,
   "id": "6b532544",
   "metadata": {},
   "outputs": [
    {
     "data": {
      "text/plain": [
       "[5, 7, 7, 7, 8, 7, 6, 7]"
      ]
     },
     "execution_count": 21,
     "metadata": {},
     "output_type": "execute_result"
    }
   ],
   "source": [
    "lx=[5,4,7,7,7,8,7,6,7]\n",
    "lx.pop(1)\n",
    "lx"
   ]
  },
  {
   "cell_type": "code",
   "execution_count": 95,
   "id": "257de409",
   "metadata": {},
   "outputs": [
    {
     "name": "stdout",
     "output_type": "stream",
     "text": [
      "[1, 2, 3]\n",
      "[2, 4, 5]\n",
      "[1, 1, 1]\n",
      "[1, 2, 3]\n",
      "[2, 4, 5]\n",
      "[1, 1, 1]\n"
     ]
    }
   ],
   "source": [
    "xx=[[1, 2, 3], [2, 4, 5], [1, 1, 1], [1, 2, 3], [2, 4, 5], [1, 1, 1]]\n",
    "for row in xx:\n",
    "    print(row)"
   ]
  },
  {
   "cell_type": "code",
   "execution_count": 99,
   "id": "8627cb9e",
   "metadata": {},
   "outputs": [],
   "source": [
    "def gridchallenge(grid):\n",
    "    #write your code here\n",
    "    grid= [list(x) for x in grid]\n",
    "    r= len(grid[0])\n",
    "    c= len(grid)\n",
    "\n",
    "# sort each row\n",
    "    for i in range(c):\n",
    "        grid[i].sort()\n",
    "    \n",
    "    for j in range(r):\n",
    "        for i in range(1,c):\n",
    "            if not grid[i-1][j] <= grid[i][j]:\n",
    "                return \"NO\"\n",
    "    return \"YES\"\n",
    "\n",
    "    \n",
    "\n"
   ]
  },
  {
   "cell_type": "code",
   "execution_count": 98,
   "id": "18e426b7",
   "metadata": {},
   "outputs": [
    {
     "data": {
      "text/plain": [
       "3"
      ]
     },
     "execution_count": 98,
     "metadata": {},
     "output_type": "execute_result"
    }
   ],
   "source": [
    "#recursive digit sum\n",
    "def digit_sum(n):\n",
    "    if n < 10:\n",
    "        return n\n",
    "    else:\n",
    "        return n % 10 + digit_sum(n // 10)"
   ]
  },
  {
   "cell_type": "code",
   "execution_count": 115,
   "id": "3d7cdd66",
   "metadata": {},
   "outputs": [
    {
     "data": {
      "text/plain": [
       "[[1, 2, 4], [5, 6, 7], [8, 9, 10]]"
      ]
     },
     "execution_count": 115,
     "metadata": {},
     "output_type": "execute_result"
    }
   ],
   "source": [
    "ls=[[2,3,4],[5,6,7],[8,9,10]]\n",
    "\n",
    "ls[0][0]=1\n",
    "ls[0][1]=2\n",
    "ls"
   ]
  },
  {
   "cell_type": "code",
   "execution_count": 5,
   "id": "77c07ee5",
   "metadata": {},
   "outputs": [
    {
     "name": "stdout",
     "output_type": "stream",
     "text": [
      "1 2\n",
      "2 3\n",
      "3 4\n"
     ]
    }
   ],
   "source": [
    "l= [1,2,2,3,3,4]\n",
    "\n",
    "for i in range(0,len(l),2):\n",
    "    print(f\"{l[i]} {l[i+1]}\" )"
   ]
  },
  {
   "cell_type": "code",
   "execution_count": 108,
   "id": "0b5d4052",
   "metadata": {},
   "outputs": [
    {
     "data": {
      "text/plain": [
       "15"
      ]
     },
     "execution_count": 108,
     "metadata": {},
     "output_type": "execute_result"
    }
   ],
   "source": [
    "p='555'\n",
    "sum(list(map(int,p)))"
   ]
  },
  {
   "cell_type": "code",
   "execution_count": null,
   "id": "69f26ee8",
   "metadata": {},
   "outputs": [],
   "source": [
    "#recursive digit sum\n",
    "def superDigit(n, k):\n",
    "    if n < 10:\n",
    "        return n\n",
    "    else:\n",
    "        return digit_sum(n * k)a"
   ]
  },
  {
   "cell_type": "code",
   "execution_count": 34,
   "id": "b60be234",
   "metadata": {},
   "outputs": [
    {
     "ename": "AttributeError",
     "evalue": "module 'random' has no attribute 'randomInt'",
     "output_type": "error",
     "traceback": [
      "\u001b[0;31m---------------------------------------------------------------------------\u001b[0m",
      "\u001b[0;31mAttributeError\u001b[0m                            Traceback (most recent call last)",
      "\u001b[1;32m/Users/mufti/Muftawo/HackerRank /HackerRank.ipynb Cell 45'\u001b[0m in \u001b[0;36m<module>\u001b[0;34m\u001b[0m\n\u001b[1;32m      <a href='vscode-notebook-cell:/Users/mufti/Muftawo/HackerRank%20/HackerRank.ipynb#ch0000048?line=0'>1</a>\u001b[0m \u001b[39mimport\u001b[39;00m \u001b[39mrandom\u001b[39;00m\n\u001b[0;32m----> <a href='vscode-notebook-cell:/Users/mufti/Muftawo/HackerRank%20/HackerRank.ipynb#ch0000048?line=1'>2</a>\u001b[0m random\u001b[39m.\u001b[39;49mrandomInt(\u001b[39m1\u001b[39m,\u001b[39m10\u001b[39m)\n",
      "\u001b[0;31mAttributeError\u001b[0m: module 'random' has no attribute 'randomInt'"
     ]
    }
   ],
   "source": [
    "import random\n"
   ]
  },
  {
   "cell_type": "code",
   "execution_count": 38,
   "id": "d44ecea8",
   "metadata": {},
   "outputs": [],
   "source": []
  },
  {
   "cell_type": "code",
   "execution_count": 39,
   "id": "9e2c430f",
   "metadata": {},
   "outputs": [
    {
     "data": {
      "text/html": [
       "<div>\n",
       "<style scoped>\n",
       "    .dataframe tbody tr th:only-of-type {\n",
       "        vertical-align: middle;\n",
       "    }\n",
       "\n",
       "    .dataframe tbody tr th {\n",
       "        vertical-align: top;\n",
       "    }\n",
       "\n",
       "    .dataframe thead th {\n",
       "        text-align: right;\n",
       "    }\n",
       "</style>\n",
       "<table border=\"1\" class=\"dataframe\">\n",
       "  <thead>\n",
       "    <tr style=\"text-align: right;\">\n",
       "      <th></th>\n",
       "      <th>Iot Status</th>\n",
       "      <th>Battery ID</th>\n",
       "      <th>Capacity (KWh)</th>\n",
       "      <th>Last Update</th>\n",
       "      <th>SOC</th>\n",
       "      <th>Distance Km</th>\n",
       "    </tr>\n",
       "  </thead>\n",
       "  <tbody>\n",
       "    <tr>\n",
       "      <th>0</th>\n",
       "      <td>1</td>\n",
       "      <td>A01</td>\n",
       "      <td>73</td>\n",
       "      <td>2 mins ago</td>\n",
       "      <td>75%</td>\n",
       "      <td>123</td>\n",
       "    </tr>\n",
       "    <tr>\n",
       "      <th>1</th>\n",
       "      <td>1</td>\n",
       "      <td>A02</td>\n",
       "      <td>64</td>\n",
       "      <td>now</td>\n",
       "      <td>65%</td>\n",
       "      <td>111</td>\n",
       "    </tr>\n",
       "    <tr>\n",
       "      <th>2</th>\n",
       "      <td>1</td>\n",
       "      <td>A03</td>\n",
       "      <td>80</td>\n",
       "      <td>now</td>\n",
       "      <td>80%</td>\n",
       "      <td>54</td>\n",
       "    </tr>\n",
       "    <tr>\n",
       "      <th>3</th>\n",
       "      <td>1</td>\n",
       "      <td>A04</td>\n",
       "      <td>32</td>\n",
       "      <td>now</td>\n",
       "      <td>32%</td>\n",
       "      <td>41</td>\n",
       "    </tr>\n",
       "    <tr>\n",
       "      <th>4</th>\n",
       "      <td>0</td>\n",
       "      <td>A05</td>\n",
       "      <td>45</td>\n",
       "      <td>now</td>\n",
       "      <td>45%</td>\n",
       "      <td>67</td>\n",
       "    </tr>\n",
       "    <tr>\n",
       "      <th>...</th>\n",
       "      <td>...</td>\n",
       "      <td>...</td>\n",
       "      <td>...</td>\n",
       "      <td>...</td>\n",
       "      <td>...</td>\n",
       "      <td>...</td>\n",
       "    </tr>\n",
       "    <tr>\n",
       "      <th>75</th>\n",
       "      <td>1</td>\n",
       "      <td>A04</td>\n",
       "      <td>32</td>\n",
       "      <td>now</td>\n",
       "      <td>32%</td>\n",
       "      <td>41</td>\n",
       "    </tr>\n",
       "    <tr>\n",
       "      <th>76</th>\n",
       "      <td>0</td>\n",
       "      <td>A05</td>\n",
       "      <td>45</td>\n",
       "      <td>now</td>\n",
       "      <td>45%</td>\n",
       "      <td>67</td>\n",
       "    </tr>\n",
       "    <tr>\n",
       "      <th>77</th>\n",
       "      <td>1</td>\n",
       "      <td>A06</td>\n",
       "      <td>67</td>\n",
       "      <td>-</td>\n",
       "      <td>67%</td>\n",
       "      <td>89</td>\n",
       "    </tr>\n",
       "    <tr>\n",
       "      <th>78</th>\n",
       "      <td>1</td>\n",
       "      <td>A07</td>\n",
       "      <td>89</td>\n",
       "      <td>now</td>\n",
       "      <td>89%</td>\n",
       "      <td>90</td>\n",
       "    </tr>\n",
       "    <tr>\n",
       "      <th>79</th>\n",
       "      <td>0</td>\n",
       "      <td>A08</td>\n",
       "      <td>90</td>\n",
       "      <td>now</td>\n",
       "      <td>90%</td>\n",
       "      <td>100</td>\n",
       "    </tr>\n",
       "  </tbody>\n",
       "</table>\n",
       "<p>80 rows × 6 columns</p>\n",
       "</div>"
      ],
      "text/plain": [
       "    Iot Status Battery ID  Capacity (KWh) Last Update  SOC  Distance Km\n",
       "0            1        A01              73  2 mins ago  75%          123\n",
       "1            1        A02              64         now  65%          111\n",
       "2            1        A03              80         now  80%           54\n",
       "3            1        A04              32         now  32%           41\n",
       "4            0        A05              45         now  45%           67\n",
       "..         ...        ...             ...         ...  ...          ...\n",
       "75           1        A04              32         now  32%           41\n",
       "76           0        A05              45         now  45%           67\n",
       "77           1        A06              67           -  67%           89\n",
       "78           1        A07              89         now  89%           90\n",
       "79           0        A08              90         now  90%          100\n",
       "\n",
       "[80 rows x 6 columns]"
      ]
     },
     "execution_count": 39,
     "metadata": {},
     "output_type": "execute_result"
    }
   ],
   "source": []
  },
  {
   "cell_type": "code",
   "execution_count": 6,
   "id": "adebdb3c",
   "metadata": {},
   "outputs": [
    {
     "data": {
      "text/plain": [
       "Index(['Unnamed: 0', 'ride_name', 'latitude', 'time', 'longitude', 'Distance',\n",
       "       'cum_distance', 'range_remaining', 'SOC', 'end_lat', 'end_long'],\n",
       "      dtype='object')"
      ]
     },
     "execution_count": 6,
     "metadata": {},
     "output_type": "execute_result"
    }
   ],
   "source": []
  },
  {
   "cell_type": "code",
   "execution_count": 4,
   "id": "789e1892",
   "metadata": {},
   "outputs": [],
   "source": [
    "the_string = '[({})]'\n",
    "the_array = ['(','[','{']\n"
   ]
  },
  {
   "cell_type": "code",
   "execution_count": 6,
   "id": "87263212",
   "metadata": {},
   "outputs": [
    {
     "data": {
      "text/plain": [
       "[False, True, False]"
      ]
     },
     "execution_count": 6,
     "metadata": {},
     "output_type": "execute_result"
    }
   ],
   "source": [
    "[the_string.startswith(ch) for ch in the_array]"
   ]
  },
  {
   "cell_type": "code",
   "execution_count": 5,
   "id": "a9e4484d",
   "metadata": {},
   "outputs": [
    {
     "name": "stdout",
     "output_type": "stream",
     "text": [
      "True\n"
     ]
    }
   ],
   "source": [
    "print(any(the_string.startswith(ch) for ch in the_array))\n"
   ]
  },
  {
   "cell_type": "code",
   "execution_count": 8,
   "id": "8b887216",
   "metadata": {},
   "outputs": [
    {
     "data": {
      "text/plain": [
       "[False, True, False]"
      ]
     },
     "execution_count": 8,
     "metadata": {},
     "output_type": "execute_result"
    }
   ],
   "source": [
    "[the_string.startswith(ch) for ch in the_array]"
   ]
  },
  {
   "cell_type": "code",
   "execution_count": null,
   "id": "9f0c2d29",
   "metadata": {},
   "outputs": [],
   "source": [
    "def count_word(string1):\n",
    "    counts = {}\n",
    "    words = string1.split()\n",
    "\n",
    "    for word in words:\n",
    "        if word in  counts:\n",
    "            counts[word] += 1\n",
    "        else:\n",
    "            counts[word] = 1\n",
    "\n",
    "    return counts\n",
    "\n",
    "string1 = str(input())\n",
    "print(count_word(string1))"
   ]
  },
  {
   "cell_type": "code",
   "execution_count": 13,
   "id": "9b942b6f",
   "metadata": {},
   "outputs": [],
   "source": [
    "#prompt user for input the number of records to be entered\n",
    "num_records = int(input('Enter number of records you need to enter: '))\n",
    "#write data to file for each entry\n",
    "file = open('path/to/file.txt', 'w')\n",
    "for i in range(num_records):\n",
    "    #prompt user for input\n",
    "    name = input('Enter name: ')\n",
    "    grade = int(input('Enter grade: '))\n",
    "    #write data to file\n",
    "    file.write(name + ',' + str(grade) + '\\n')"
   ]
  },
  {
   "cell_type": "code",
   "execution_count": null,
   "id": "8e05d4e2",
   "metadata": {},
   "outputs": [],
   "source": [
    "def even_numbers(maximum):\n",
    "    return_string = ''\n",
    "    for i in range(1, maximum + 1):\n",
    "        if i % 2 == 0:\n",
    "            return_string += str(i) + ' '\n",
    "    return return_string"
   ]
  },
  {
   "cell_type": "code",
   "execution_count": 10,
   "id": "5bb25647",
   "metadata": {},
   "outputs": [
    {
     "name": "stdout",
     "output_type": "stream",
     "text": [
      "input:  <bound method Kernel.raw_input of <ipykernel.ipkernel.IPythonKernel object at 0x108aeef10>>\n",
      "Loading, this is a test\n"
     ]
    },
    {
     "ename": "TypeError",
     "evalue": "random() takes no arguments (3 given)",
     "output_type": "error",
     "traceback": [
      "\u001b[0;31m---------------------------------------------------------------------------\u001b[0m",
      "\u001b[0;31mTypeError\u001b[0m                                 Traceback (most recent call last)",
      "\u001b[1;32m/Users/mufti/Muftawo/HackerRank /HackerRank.ipynb Cell 57'\u001b[0m in \u001b[0;36m<module>\u001b[0;34m\u001b[0m\n\u001b[1;32m     <a href='vscode-notebook-cell:/Users/mufti/Muftawo/HackerRank%20/HackerRank.ipynb#ch0000056?line=11'>12</a>\u001b[0m     \u001b[39mprint\u001b[39m(\u001b[39m\"\u001b[39m\u001b[39minput: \u001b[39m\u001b[39m\"\u001b[39m , \u001b[39minput\u001b[39m)\n\u001b[1;32m     <a href='vscode-notebook-cell:/Users/mufti/Muftawo/HackerRank%20/HackerRank.ipynb#ch0000056?line=13'>14</a>\u001b[0m     \u001b[39mprint\u001b[39m(\u001b[39m'\u001b[39m\u001b[39mLoading, this is a test\u001b[39m\u001b[39m'\u001b[39m)\n\u001b[0;32m---> <a href='vscode-notebook-cell:/Users/mufti/Muftawo/HackerRank%20/HackerRank.ipynb#ch0000056?line=14'>15</a>\u001b[0m     rannum \u001b[39m=\u001b[39m random\u001b[39m.\u001b[39;49mrandom(\u001b[39m'\u001b[39;49m\u001b[39m1\u001b[39;49m\u001b[39m'\u001b[39;49m,\u001b[39m'\u001b[39;49m\u001b[39m2\u001b[39;49m\u001b[39m'\u001b[39;49m,\u001b[39m'\u001b[39;49m\u001b[39m3\u001b[39;49m\u001b[39m'\u001b[39;49m)\n\u001b[1;32m     <a href='vscode-notebook-cell:/Users/mufti/Muftawo/HackerRank%20/HackerRank.ipynb#ch0000056?line=15'>16</a>\u001b[0m \u001b[39mif\u001b[39;00m rannum \u001b[39m==\u001b[39m \u001b[39m1\u001b[39m:\n\u001b[1;32m     <a href='vscode-notebook-cell:/Users/mufti/Muftawo/HackerRank%20/HackerRank.ipynb#ch0000056?line=16'>17</a>\u001b[0m     ran1 \u001b[39m=\u001b[39m random\u001b[39m.\u001b[39msample(list1)\n",
      "\u001b[0;31mTypeError\u001b[0m: random() takes no arguments (3 given)"
     ]
    }
   ],
   "source": [
    "import time\n",
    "\n",
    "import random\n",
    "\n",
    "list1 = ['A', 'B', 'C','D','E','F','G','H','I','J','K','L','M','N','O','P','Q','R','S','T','U','V','W','X','Y','Z','a','b','c','d','e','f','g','h','i','j','k','l','m','n','o','p','q','r','s','t','u','v','w','x','y','z','1','2','3','4','5','6','7','8','9','0','!','@','#','$','%','^','&','*','(',')','-','_','=','+']\n",
    "\n",
    "password = \"the\"#input('Enter a three character password')\n",
    "\n",
    "guess = ''\n",
    "\n",
    "while password != input:\n",
    "    print(\"input: \" , input)\n",
    "\n",
    "    print('Loading, this is a test')\n",
    "    rannum = random.random('1','2','3')\n",
    "if rannum == 1:\n",
    "    ran1 = random.sample(list1)\n",
    "    guess = ran1\n",
    "    print(guess)\n",
    "elif rannum == 2:\n",
    "    ran1 = random.sample(list1)\n",
    "    ran2 = random.sample(list1)\n",
    "    guess = ran1 + ran2\n",
    "    print(guess)\n",
    "elif rannum == 3:\n",
    "    ran1 = random.sample(list1)\n",
    "    ran2 = random.sample(list1)\n",
    "    ran3 = random.sample(list1)\n",
    "    guess = ran1 + ran2 + ran3\n",
    "    print(guess)\n",
    "        \n"
   ]
  },
  {
   "cell_type": "code",
   "execution_count": 3,
   "id": "42d3747a",
   "metadata": {},
   "outputs": [],
   "source": [
    "#merge two sorted linked lists\n",
    "def merge_sorted_lists(head1, head2):\n",
    "    if head1 is None:\n",
    "        return head2\n",
    "    if head2 is None:\n",
    "        return head1\n",
    "    \n",
    "    if head1.data < head2.data:\n",
    "        head1.next = merge_sorted_lists(head1.next, head2)\n",
    "        return head1\n",
    "    else:\n",
    "        head2.next = merge_sorted_lists(head1, head2.next)\n",
    "        return head2"
   ]
  },
  {
   "cell_type": "markdown",
   "id": "60d754a6",
   "metadata": {},
   "source": []
  },
  {
   "cell_type": "code",
   "execution_count": 6,
   "id": "4d648c3a",
   "metadata": {},
   "outputs": [
    {
     "data": {
      "text/plain": [
       "'[2, 4, 5]'"
      ]
     },
     "execution_count": 6,
     "metadata": {},
     "output_type": "execute_result"
    }
   ],
   "source": [
    "str([2,4,5,])"
   ]
  },
  {
   "cell_type": "code",
   "execution_count": 6,
   "metadata": {},
   "outputs": [
    {
     "name": "stdout",
     "output_type": "stream",
     "text": [
      "hi what F 5 is the weather like\n"
     ]
    }
   ],
   "source": [
    "import re\n",
    "\n",
    "a_string = '^^^^^^!hi. wh()?at F 5 is the we...at[h]er lik?e.'\n",
    "new_string = re.sub(r'[^\\w\\s]', '', a_string)\n",
    "print(new_string)\n",
    "# Returns: hi what is the weather like"
   ]
  },
  {
   "cell_type": "code",
   "execution_count": 10,
   "id": "b1bb7ef1",
   "metadata": {},
   "outputs": [
    {
     "name": "stdout",
     "output_type": "stream",
     "text": [
      "replcaing\n",
      "replcaing\n",
      "replcaing\n",
      "replcaing\n"
     ]
    },
    {
     "data": {
      "text/plain": [
       "'Hwer ars !  eje...sjd you'"
      ]
     },
     "execution_count": 10,
     "metadata": {},
     "output_type": "execute_result"
    }
   ],
   "source": [
    "l=\"([{]}).,!@\"\n",
    "sentence= \"Hwer ars !  eje...sjd you\"\n",
    "for i in sentence:\n",
    "    if i in l:\n",
    "        print(\"replcaing\")\n",
    "        sentence.replace(i,\" \")\n",
    "sentence"
   ]
  },
  {
   "cell_type": "code",
   "execution_count": 21,
   "id": "2125a6a9",
   "metadata": {},
   "outputs": [],
   "source": [
    "class Employee:\n",
    "    \n",
    "    raise_amount=1.20\n",
    "    employee_count=0\n",
    "    \n",
    "    def __init__(self,first,last,pay):\n",
    "        self.first=first\n",
    "        self.last=last\n",
    "        self.pay = pay\n",
    "        self.email= f\"{first}.{last}@company.com\"\n",
    "        Employee.employee_count+=1\n",
    "        \n",
    "        \n",
    "        \n",
    "    def get_fullname(self):\n",
    "        return f\"{self.first} {self.last}\"\n",
    "    \n",
    "    def total_pay(self):\n",
    "        return self.pay * self.raise_amount \n",
    "        \n",
    "    @classmethod\n",
    "    def set_raise_amount(cls,amount):\n",
    "        cls.raise_amount=amount\n",
    "        return f\"raise amount set \"\n",
    "    \n",
    "    @staticmethod\n",
    "    def num_employees():\n",
    "        return Employee.employee_count\n",
    "        \n",
    "    \n",
    "    \n",
    "    \n",
    "    \n",
    "Me= Employee(\"mufty\",\"omar\",10000)\n",
    "You= Employee(\"You\", \"Them\", 10000)\n",
    "Test= Employee(\"Test\", \"User\", 10000)"
   ]
  },
  {
   "cell_type": "code",
   "execution_count": 20,
   "id": "aee53f95",
   "metadata": {},
   "outputs": [
    {
     "ename": "AttributeError",
     "evalue": "type object 'Employee' has no attribute 'first'",
     "output_type": "error",
     "traceback": [
      "\u001b[0;31m---------------------------------------------------------------------------\u001b[0m",
      "\u001b[0;31mAttributeError\u001b[0m                            Traceback (most recent call last)",
      "\u001b[1;32m/Users/mufti/Muftawo/DSA/HackerRank.ipynb Cell 65\u001b[0m in \u001b[0;36m<cell line: 1>\u001b[0;34m()\u001b[0m\n\u001b[0;32m----> <a href='vscode-notebook-cell:/Users/mufti/Muftawo/DSA/HackerRank.ipynb#ch0000064?line=0'>1</a>\u001b[0m You\u001b[39m.\u001b[39;49mset_raise_amount(\u001b[39m1.5\u001b[39;49m)\n",
      "\u001b[1;32m/Users/mufti/Muftawo/DSA/HackerRank.ipynb Cell 65\u001b[0m in \u001b[0;36mEmployee.set_raise_amount\u001b[0;34m(cls, amount)\u001b[0m\n\u001b[1;32m     <a href='vscode-notebook-cell:/Users/mufti/Muftawo/DSA/HackerRank.ipynb#ch0000064?line=20'>21</a>\u001b[0m \u001b[39m@classmethod\u001b[39m\n\u001b[1;32m     <a href='vscode-notebook-cell:/Users/mufti/Muftawo/DSA/HackerRank.ipynb#ch0000064?line=21'>22</a>\u001b[0m \u001b[39mdef\u001b[39;00m \u001b[39mset_raise_amount\u001b[39m(\u001b[39mcls\u001b[39m,amount):\n\u001b[1;32m     <a href='vscode-notebook-cell:/Users/mufti/Muftawo/DSA/HackerRank.ipynb#ch0000064?line=22'>23</a>\u001b[0m     \u001b[39mcls\u001b[39m\u001b[39m.\u001b[39mraise_amount\u001b[39m=\u001b[39mamount\n\u001b[0;32m---> <a href='vscode-notebook-cell:/Users/mufti/Muftawo/DSA/HackerRank.ipynb#ch0000064?line=23'>24</a>\u001b[0m     \u001b[39mreturn\u001b[39;00m \u001b[39mf\u001b[39m\u001b[39m\"\u001b[39m\u001b[39mraise amount set for \u001b[39m\u001b[39m{\u001b[39;00m\u001b[39mcls\u001b[39m\u001b[39m.\u001b[39mfirst\u001b[39m}\u001b[39;00m\u001b[39m\"\u001b[39m\n",
      "\u001b[0;31mAttributeError\u001b[0m: type object 'Employee' has no attribute 'first'"
     ]
    }
   ],
   "source": [
    "You.set_raise_amount(1.5)"
   ]
  },
  {
   "cell_type": "code",
   "execution_count": 7,
   "id": "9c4df276",
   "metadata": {},
   "outputs": [
    {
     "data": {
      "text/plain": [
       "15000.0"
      ]
     },
     "execution_count": 7,
     "metadata": {},
     "output_type": "execute_result"
    }
   ],
   "source": [
    "Test.total_pay()"
   ]
  },
  {
   "cell_type": "code",
   "execution_count": 23,
   "id": "26f48d46",
   "metadata": {},
   "outputs": [
    {
     "data": {
      "text/plain": [
       "3"
      ]
     },
     "execution_count": 23,
     "metadata": {},
     "output_type": "execute_result"
    }
   ],
   "source": [
    "Employee.num_employees()"
   ]
  },
  {
   "cell_type": "code",
   "execution_count": 41,
   "id": "f1e0fdf7",
   "metadata": {},
   "outputs": [],
   "source": [
    "class Designer(Employee):\n",
    "    # uses some tools\n",
    "    \n",
    "    pass\n",
    "    \n",
    "\n",
    "\n",
    "class Manager(Employee):\n",
    "    #manages some designers\n",
    "    pass\n",
    "    "
   ]
  },
  {
   "cell_type": "code",
   "execution_count": 1,
   "id": "f039fa06",
   "metadata": {},
   "outputs": [],
   "source": [
    "class Post:\n",
    "    name:str='name'\n",
    "    age:int=\"34\"\n",
    "    "
   ]
  },
  {
   "cell_type": "code",
   "execution_count": 7,
   "id": "95dfe5e3",
   "metadata": {},
   "outputs": [],
   "source": [
    "post1=Post"
   ]
  },
  {
   "cell_type": "code",
   "execution_count": 9,
   "id": "553a1942",
   "metadata": {},
   "outputs": [
    {
     "data": {
      "text/plain": [
       "43"
      ]
     },
     "execution_count": 9,
     "metadata": {},
     "output_type": "execute_result"
    }
   ],
   "source": [
    "post1.age"
   ]
  },
  {
   "cell_type": "code",
   "execution_count": 1,
   "id": "7789fe63",
   "metadata": {},
   "outputs": [
    {
     "data": {
      "text/plain": [
       "True"
      ]
     },
     "execution_count": 1,
     "metadata": {},
     "output_type": "execute_result"
    }
   ],
   "source": [
    "2 in [2,3,4]"
   ]
  },
  {
   "cell_type": "code",
   "execution_count": 7,
   "id": "b16915d3",
   "metadata": {},
   "outputs": [
    {
     "data": {
      "text/plain": [
       "5"
      ]
     },
     "execution_count": 7,
     "metadata": {},
     "output_type": "execute_result"
    }
   ],
   "source": [
    "ff=[3,4,5,6,7,7]\n",
    "ff.pop(2)"
   ]
  },
  {
   "cell_type": "code",
   "execution_count": 9,
   "id": "0293c813",
   "metadata": {},
   "outputs": [
    {
     "data": {
      "text/plain": [
       "4"
      ]
     },
     "execution_count": 9,
     "metadata": {},
     "output_type": "execute_result"
    }
   ],
   "source": [
    "ff.pop(1)"
   ]
  },
  {
   "cell_type": "code",
   "execution_count": 10,
   "id": "45910b13",
   "metadata": {},
   "outputs": [
    {
     "data": {
      "text/plain": [
       "[3, 6, 7, 7]"
      ]
     },
     "execution_count": 10,
     "metadata": {},
     "output_type": "execute_result"
    }
   ],
   "source": [
    "ff"
   ]
  },
  {
   "cell_type": "code",
   "execution_count": 14,
   "id": "932991b7",
   "metadata": {},
   "outputs": [],
   "source": [
    "ff.reverse()"
   ]
  },
  {
   "cell_type": "code",
   "execution_count": 21,
   "id": "57cf1794",
   "metadata": {},
   "outputs": [],
   "source": [
    "ff.remove(7)"
   ]
  },
  {
   "cell_type": "code",
   "execution_count": 20,
   "id": "c7b90930",
   "metadata": {},
   "outputs": [
    {
     "data": {
      "text/plain": [
       "[6, 7]"
      ]
     },
     "execution_count": 20,
     "metadata": {},
     "output_type": "execute_result"
    }
   ],
   "source": [
    "list(ff)"
   ]
  },
  {
   "cell_type": "code",
   "execution_count": 1,
   "id": "f0cefa00",
   "metadata": {},
   "outputs": [],
   "source": [
    "#not a very efficient solution O(N)\n",
    "# Trying each key agints a lock \n",
    "\n",
    "\n",
    "def match_bolts_and_nuts(bolts,nuts):\n",
    "    matchs={}\n",
    "    for bolt in bolts:\n",
    "        for nut in nuts:\n",
    "            if bolt == nut:\n",
    "                matchs[bolt] =nut\n",
    "\n",
    "    return matchs"
   ]
  },
  {
   "cell_type": "code",
   "execution_count": 5,
   "id": "16963ac2",
   "metadata": {},
   "outputs": [],
   "source": [
    "# testCases \n",
    "bolts=['@','^','#','(','$','%'] \n",
    "muts =  ['^','@','#','$','%']"
   ]
  },
  {
   "cell_type": "code",
   "execution_count": 6,
   "id": "9c2e4557",
   "metadata": {},
   "outputs": [
    {
     "data": {
      "text/plain": [
       "{'@': '@', '^': '^', '#': '#', '$': '$', '%': '%'}"
      ]
     },
     "execution_count": 6,
     "metadata": {},
     "output_type": "execute_result"
    }
   ],
   "source": [
    "match_bolts_and_nuts(bolts,muts)"
   ]
  },
  {
   "cell_type": "code",
   "execution_count": 7,
   "id": "903b1fbb",
   "metadata": {},
   "outputs": [],
   "source": [
    "# Function to match nuts and\n",
    "# bolts\n",
    "def nutboltmatch(nuts, bolts, n):\n",
    " \n",
    "    hash1 = {}\n",
    " \n",
    "    # creating a hashmap\n",
    "    # for nuts\n",
    "    for i in range(n):\n",
    "        hash1[nuts[i]] = i\n",
    " \n",
    "    # searching for nuts for\n",
    "    # each bolt in hash map\n",
    "    for i in range(n):\n",
    "        if (bolts[i] in hash1):\n",
    "            nuts[i] = bolts[i]\n",
    " \n",
    "    # Print the result\n",
    "    print(\"matched nuts and bolts are-\")\n",
    "    for i in range(n):\n",
    "        print(nuts[i],\n",
    "              end = \" \")\n",
    "    print()\n",
    "    for i in range(n):\n",
    "        print(bolts[i],\n",
    "              end = \" \")\n",
    " "
   ]
  },
  {
   "cell_type": "code",
   "execution_count": 11,
   "id": "5578718d",
   "metadata": {},
   "outputs": [
    {
     "data": {
      "text/plain": [
       "{'@': '@', '#': '#', '$': '$', '%': '%', '^': '^', '&': '&'}"
      ]
     },
     "execution_count": 11,
     "metadata": {},
     "output_type": "execute_result"
    }
   ],
   "source": [
    "\n",
    "nuts = ['@', '#', '$', '%', '^', '&']\n",
    "bolts = ['$', '%', '&','2','9','p','^', '@', '#']\n",
    "n = len(nuts)\n",
    "nutboltmatch(nuts, bolts, n)\n",
    " "
   ]
  },
  {
   "cell_type": "code",
   "execution_count": 2,
   "id": "d5fe05d2",
   "metadata": {},
   "outputs": [
    {
     "data": {
      "text/plain": [
       "True"
      ]
     },
     "execution_count": 2,
     "metadata": {},
     "output_type": "execute_result"
    }
   ],
   "source": [
    "# valid parentheses\n",
    "\n",
    "def is_valid_paren(parentheses:str)-> bool:\n",
    "    \n",
    "    if (len(parentheses)<2 )or (len(parentheses)%2 !=0):\n",
    "        return False\n",
    "    \n",
    "    stack :list =[]\n",
    "    valid_matchs: dict= {'(':')','{':'}','[':']'}\n",
    "\n",
    "    for char in parentheses:\n",
    "        if char in valid_matchs:\n",
    "            stack.append(char)\n",
    "            \n",
    "        elif stack==[] or  valid_matchs[stack.pop()] != char : # if stack is empty then no parentheses has been opened, if the openeing and closing parentheses dont match return false\n",
    "                return False\n",
    "        \n",
    "    return len(stack)==0 # stack should be empty if paren is valid\n",
    "\n",
    "paren=\"[()]\"    \n",
    "is_valid_paren(paren)  \n",
    "    "
   ]
  },
  {
   "cell_type": "code",
   "execution_count": 9,
   "id": "d15f0c1f",
   "metadata": {},
   "outputs": [
    {
     "data": {
      "text/plain": [
       "{'$': 0, '%': 1, '&': 2, '^': 3, '@': 4, '#': 5}"
      ]
     },
     "execution_count": 9,
     "metadata": {},
     "output_type": "execute_result"
    }
   ],
   "source": [
    "hash1 = {}\n",
    " \n",
    "# creating a hashmap\n",
    "# for nuts\n",
    "for i in range(n):\n",
    "    hash1[nuts[i]] = i\n",
    "    \n",
    "hash1"
   ]
  },
  {
   "cell_type": "code",
   "execution_count": null,
   "metadata": {},
   "outputs": [],
   "source": [
    "for i in range(n):\n",
    "    if (bolts[i] in hash1):\n",
    "        nuts[i] = bolts[i]\n"
   ]
  },
  {
   "cell_type": "code",
   "execution_count": 1,
   "id": "f73bf11d",
   "metadata": {},
   "outputs": [
    {
     "name": "stdout",
     "output_type": "stream",
     "text": [
      "[2, 4, 8, 16, 32]\n"
     ]
    }
   ],
   "source": [
    "https://github.com/Muftawo/blocks-refive"
   ]
  },
  {
   "cell_type": "code",
   "execution_count": 25,
   "id": "288ac5d8",
   "metadata": {},
   "outputs": [
    {
     "data": {
      "text/plain": [
       "False"
      ]
     },
     "execution_count": 25,
     "metadata": {},
     "output_type": "execute_result"
    }
   ],
   "source": [
    "l=[]\n",
    "l is None"
   ]
  },
  {
   "cell_type": "code",
   "execution_count": 3,
   "id": "336e5068",
   "metadata": {},
   "outputs": [],
   "source": [
    "class Hello:\n",
    "    def __init__(self, a= \"shgsg ...\"):\n",
    "        self.a= a \n",
    "    def some(self, x):\n",
    "        print(self.a + x)\n",
    "\n",
    "h= Hello()"
   ]
  },
  {
   "cell_type": "code",
   "execution_count": 8,
   "id": "c447d834",
   "metadata": {},
   "outputs": [
    {
     "data": {
      "text/plain": [
       "True"
      ]
     },
     "execution_count": 8,
     "metadata": {},
     "output_type": "execute_result"
    }
   ],
   "source": [
    "c={\"a\":2}\n",
    "\n",
    "\"a\" in c"
   ]
  },
  {
   "cell_type": "code",
   "execution_count": 6,
   "id": "ba7a7ed7",
   "metadata": {},
   "outputs": [
    {
     "data": {
      "text/plain": [
       "' ia dnd shsh'"
      ]
     },
     "execution_count": 6,
     "metadata": {},
     "output_type": "execute_result"
    }
   ],
   "source": [
    "\" ia dnd {huh}\".format(huh=\"shsh\")"
   ]
  },
  {
   "cell_type": "code",
   "execution_count": 7,
   "id": "dd703a74",
   "metadata": {},
   "outputs": [
    {
     "data": {
      "text/plain": [
       "'sjsj'"
      ]
     },
     "execution_count": 7,
     "metadata": {},
     "output_type": "execute_result"
    }
   ],
   "source": [
    "lol= \"sjsj\"\n",
    "lol[2].upper()\n",
    "lol"
   ]
  },
  {
   "cell_type": "code",
   "execution_count": 8,
   "id": "cfe67b7c",
   "metadata": {},
   "outputs": [
    {
     "data": {
      "text/plain": [
       "['j', 's', 'j', 's']"
      ]
     },
     "execution_count": 8,
     "metadata": {},
     "output_type": "execute_result"
    }
   ],
   "source": [
    "[i.lower() for i in \"jsjs\"].co"
   ]
  },
  {
   "cell_type": "code",
   "execution_count": 11,
   "id": "f185e0ef",
   "metadata": {},
   "outputs": [
    {
     "name": "stdout",
     "output_type": "stream",
     "text": [
      "me\n"
     ]
    }
   ],
   "source": [
    "print(\"%(a)s\" % dict(a=\"me\"))"
   ]
  },
  {
   "cell_type": "code",
   "execution_count": 12,
   "id": "c4a1081d",
   "metadata": {},
   "outputs": [],
   "source": [
    "l=[2,3,4,5,6]"
   ]
  },
  {
   "cell_type": "code",
   "execution_count": 13,
   "id": "00b649d4",
   "metadata": {},
   "outputs": [
    {
     "data": {
      "text/plain": [
       "6"
      ]
     },
     "execution_count": 13,
     "metadata": {},
     "output_type": "execute_result"
    }
   ],
   "source": [
    "l.pop()"
   ]
  },
  {
   "cell_type": "code",
   "execution_count": 4,
   "id": "28db5780",
   "metadata": {},
   "outputs": [
    {
     "data": {
      "text/plain": [
       "6485"
      ]
     },
     "execution_count": 4,
     "metadata": {},
     "output_type": "execute_result"
    }
   ],
   "source": [
    "int(\"1100101010101\",2)"
   ]
  },
  {
   "cell_type": "code",
   "execution_count": 16,
   "id": "919df442",
   "metadata": {},
   "outputs": [
    {
     "name": "stdout",
     "output_type": "stream",
     "text": [
      "[5, 6, 7]\n"
     ]
    }
   ],
   "source": [
    "def fun(x):\n",
    "    return x +1 \n",
    "\n",
    "print(list(map(fun,[4,5,6])))"
   ]
  },
  {
   "cell_type": "code",
   "execution_count": 23,
   "id": "66177159",
   "metadata": {},
   "outputs": [],
   "source": [
    "a= [1,2,3,4]\n",
    "b = [sum(a[0:x+1]) for x in range(len(a))]"
   ]
  },
  {
   "cell_type": "code",
   "execution_count": 24,
   "id": "defb044d",
   "metadata": {},
   "outputs": [
    {
     "data": {
      "text/plain": [
       "[1, 3, 6, 10]"
      ]
     },
     "execution_count": 24,
     "metadata": {},
     "output_type": "execute_result"
    }
   ],
   "source": [
    "b"
   ]
  },
  {
   "cell_type": "code",
   "execution_count": 6,
   "id": "3af027f4",
   "metadata": {},
   "outputs": [
    {
     "ename": "NameError",
     "evalue": "name 'backtrack' is not defined",
     "output_type": "error",
     "traceback": [
      "\u001b[0;31m---------------------------------------------------------------------------\u001b[0m",
      "\u001b[0;31mNameError\u001b[0m                                 Traceback (most recent call last)",
      "\u001b[1;32m/Users/mufti/Muftawo/DSA/HackerRank.ipynb Cell 104\u001b[0m in \u001b[0;36m<cell line: 1>\u001b[0;34m()\u001b[0m\n\u001b[0;32m----> <a href='vscode-notebook-cell:/Users/mufti/Muftawo/DSA/HackerRank.ipynb#Y205sZmlsZQ%3D%3D?line=0'>1</a>\u001b[0m backtrack(\u001b[39m0\u001b[39m)\n",
      "\u001b[0;31mNameError\u001b[0m: name 'backtrack' is not defined"
     ]
    }
   ],
   "source": [
    "backtrack(0)"
   ]
  },
  {
   "cell_type": "code",
   "execution_count": 21,
   "id": "0fad1700",
   "metadata": {},
   "outputs": [],
   "source": [
    "import re \n",
    "r=re.findall(\"a b c\", \"a\",1)"
   ]
  },
  {
   "cell_type": "code",
   "execution_count": 22,
   "id": "bb6afcaa",
   "metadata": {},
   "outputs": [
    {
     "data": {
      "text/plain": [
       "[]"
      ]
     },
     "execution_count": 22,
     "metadata": {},
     "output_type": "execute_result"
    }
   ],
   "source": [
    "r"
   ]
  },
  {
   "cell_type": "code",
   "execution_count": 28,
   "id": "21aec617",
   "metadata": {},
   "outputs": [
    {
     "data": {
      "text/plain": [
       "[2, 2, 3]"
      ]
     },
     "execution_count": 28,
     "metadata": {},
     "output_type": "execute_result"
    }
   ],
   "source": [
    "x= ['ab', \"cd\", \"sgd\"]\n",
    "\n",
    "list(map(len, x))"
   ]
  },
  {
   "cell_type": "code",
   "execution_count": 29,
   "id": "1ff90cb5",
   "metadata": {},
   "outputs": [
    {
     "data": {
      "text/plain": [
       "['ab', 'cd', 'sgd']"
      ]
     },
     "execution_count": 29,
     "metadata": {},
     "output_type": "execute_result"
    }
   ],
   "source": [
    "x"
   ]
  },
  {
   "cell_type": "code",
   "execution_count": 30,
   "id": "36172d43",
   "metadata": {},
   "outputs": [
    {
     "data": {
      "text/plain": [
       "'ab-cd-sgd'"
      ]
     },
     "execution_count": 30,
     "metadata": {},
     "output_type": "execute_result"
    }
   ],
   "source": [
    "\"-\".join(x)"
   ]
  },
  {
   "cell_type": "code",
   "execution_count": 31,
   "id": "b6d3e1c4",
   "metadata": {},
   "outputs": [
    {
     "data": {
      "text/plain": [
       "'SMMSNMDS'"
      ]
     },
     "execution_count": 31,
     "metadata": {},
     "output_type": "execute_result"
    }
   ],
   "source": [
    "\"smmsnmds\".upper()"
   ]
  },
  {
   "cell_type": "code",
   "execution_count": 32,
   "id": "7935d522",
   "metadata": {},
   "outputs": [
    {
     "data": {
      "text/plain": [
       "{8: 'dndn', 0: 'shdn'}"
      ]
     },
     "execution_count": 32,
     "metadata": {},
     "output_type": "execute_result"
    }
   ],
   "source": [
    "{8:\"dndn\", 0:\"shdn\"}"
   ]
  },
  {
   "cell_type": "code",
   "execution_count": 35,
   "id": "5d41c7b5",
   "metadata": {},
   "outputs": [],
   "source": [
    "z=set(\"abbd\")\n",
    "z.add(\"dhdh\")"
   ]
  },
  {
   "cell_type": "code",
   "execution_count": 39,
   "id": "742236b1",
   "metadata": {},
   "outputs": [
    {
     "data": {
      "text/plain": [
       "False"
      ]
     },
     "execution_count": 39,
     "metadata": {},
     "output_type": "execute_result"
    }
   ],
   "source": [
    "x = \"check\"\n",
    "hasattr(x, \"check\")"
   ]
  },
  {
   "cell_type": "code",
   "execution_count": 1,
   "id": "a7c89de8",
   "metadata": {},
   "outputs": [
    {
     "ename": "SyntaxError",
     "evalue": "positional argument follows keyword argument (<ipython-input-1-2a9736915e1e>, line 6)",
     "output_type": "error",
     "traceback": [
      "\u001b[0;36m  Input \u001b[0;32mIn [1]\u001b[0;36m\u001b[0m\n\u001b[0;31m    f(z=3,y=2,1)\u001b[0m\n\u001b[0m              ^\u001b[0m\n\u001b[0;31mSyntaxError\u001b[0m\u001b[0;31m:\u001b[0m positional argument follows keyword argument\n"
     ]
    }
   ],
   "source": [
    "#transpose matrix \n",
    "def f(x,y,z):\n",
    "    return x+y+z\n",
    "\n",
    "\n",
    "f(z=3,y=2,1)"
   ]
  },
  {
   "cell_type": "code",
   "execution_count": 4,
   "id": "f9e5dac9",
   "metadata": {},
   "outputs": [
    {
     "ename": "TypeError",
     "evalue": "__init_subclass__() takes no keyword arguments",
     "output_type": "error",
     "traceback": [
      "\u001b[0;31m---------------------------------------------------------------------------\u001b[0m",
      "\u001b[0;31mTypeError\u001b[0m                                 Traceback (most recent call last)",
      "\u001b[1;32m/Users/mufti/Muftawo/DSA/HackerRank.ipynb Cell 114\u001b[0m in \u001b[0;36m<cell line: 6>\u001b[0;34m()\u001b[0m\n\u001b[1;32m      <a href='vscode-notebook-cell:/Users/mufti/Muftawo/DSA/HackerRank.ipynb#Y221sZmlsZQ%3D%3D?line=2'>3</a>\u001b[0m \u001b[39mclass\u001b[39;00m \u001b[39mBase2\u001b[39;00m:\n\u001b[1;32m      <a href='vscode-notebook-cell:/Users/mufti/Muftawo/DSA/HackerRank.ipynb#Y221sZmlsZQ%3D%3D?line=3'>4</a>\u001b[0m     \u001b[39mpass\u001b[39;00m\n\u001b[0;32m----> <a href='vscode-notebook-cell:/Users/mufti/Muftawo/DSA/HackerRank.ipynb#Y221sZmlsZQ%3D%3D?line=5'>6</a>\u001b[0m \u001b[39mclass\u001b[39;00m \u001b[39mBase3\u001b[39;00m(base\u001b[39m=\u001b[39m[Base1, Base2]):\n\u001b[1;32m      <a href='vscode-notebook-cell:/Users/mufti/Muftawo/DSA/HackerRank.ipynb#Y221sZmlsZQ%3D%3D?line=6'>7</a>\u001b[0m     \u001b[39mpass\u001b[39;00m\n",
      "\u001b[0;31mTypeError\u001b[0m: __init_subclass__() takes no keyword arguments"
     ]
    }
   ],
   "source": [
    "class Base1:\n",
    "    pass\n",
    "class Base2:\n",
    "    pass\n",
    "\n",
    "class Base3(Base1, Base2):\n",
    "    pass"
   ]
  },
  {
   "cell_type": "code",
   "execution_count": 5,
   "id": "e3af2761",
   "metadata": {},
   "outputs": [
    {
     "data": {
      "text/plain": [
       "False"
      ]
     },
     "execution_count": 5,
     "metadata": {},
     "output_type": "execute_result"
    }
   ],
   "source": [
    "list(enumerate(\"python\"))== list(range(len(\"python\")))"
   ]
  },
  {
   "cell_type": "code",
   "execution_count": 17,
   "id": "3a7be9a1",
   "metadata": {},
   "outputs": [],
   "source": [
    "from collections import Counter\n",
    "\n",
    "wish=[\"I\", \"ArithmeticErrorneed\", \"bread\", \"milk\"]\n",
    "\n",
    "c= Counter (wish)\n"
   ]
  },
  {
   "cell_type": "code",
   "execution_count": 18,
   "id": "7d36fff1",
   "metadata": {},
   "outputs": [
    {
     "name": "stdout",
     "output_type": "stream",
     "text": [
      "1\n",
      "3\n"
     ]
    }
   ],
   "source": [
    "for x in range(1,5,2):\n",
    "    print(x)\n",
    "    d=x%3\n",
    "    c.update([wish[d]]*x)"
   ]
  },
  {
   "cell_type": "code",
   "execution_count": 19,
   "id": "91864ac0",
   "metadata": {},
   "outputs": [
    {
     "data": {
      "text/plain": [
       "'dabcfabce'"
      ]
     },
     "execution_count": 19,
     "metadata": {},
     "output_type": "execute_result"
    }
   ],
   "source": [
    "\"abc\".join(\"dfe\")"
   ]
  },
  {
   "cell_type": "code",
   "execution_count": 7,
   "id": "72b8b5e9",
   "metadata": {},
   "outputs": [
    {
     "data": {
      "text/plain": [
       "{'(', ')', '{'}"
      ]
     },
     "execution_count": 7,
     "metadata": {},
     "output_type": "execute_result"
    }
   ],
   "source": [
    "s=\"({)\"\n",
    "set(s)"
   ]
  },
  {
   "cell_type": "code",
   "execution_count": 4,
   "id": "7136d3a8",
   "metadata": {},
   "outputs": [
    {
     "data": {
      "text/plain": [
       "6"
      ]
     },
     "execution_count": 4,
     "metadata": {},
     "output_type": "execute_result"
    }
   ],
   "source": [
    "s=[ 1,2,4,5,6,6,6]\n",
    "\n",
    "s[-1]"
   ]
  },
  {
   "cell_type": "code",
   "execution_count": 6,
   "id": "733055c3",
   "metadata": {},
   "outputs": [
    {
     "data": {
      "text/plain": [
       "1"
      ]
     },
     "execution_count": 6,
     "metadata": {},
     "output_type": "execute_result"
    }
   ],
   "source": [
    "s.count(2)"
   ]
  },
  {
   "cell_type": "code",
   "execution_count": 9,
   "id": "4689ed2f",
   "metadata": {},
   "outputs": [
    {
     "data": {
      "text/plain": [
       "4"
      ]
     },
     "execution_count": 9,
     "metadata": {},
     "output_type": "execute_result"
    }
   ],
   "source": [
    "max(2,3,4,0)\n"
   ]
  },
  {
   "cell_type": "code",
   "execution_count": 12,
   "id": "8cf7d7e3",
   "metadata": {},
   "outputs": [
    {
     "data": {
      "text/plain": [
       "[4, -1, -10, 3, 99]"
      ]
     },
     "execution_count": 12,
     "metadata": {},
     "output_type": "execute_result"
    }
   ],
   "source": [
    "def rotate_array(arr):\n",
    "    \n",
    "    return arr[-1:]+arr[:-1]\n",
    "\n",
    "array=[-1,-10,3,99,4]\n",
    "rotate_array(array)"
   ]
  },
  {
   "attachments": {},
   "cell_type": "markdown",
   "id": "5965136c",
   "metadata": {},
   "source": [
    "# create a class which stores items \n",
    "1. we want to be able insert items with no duplicates \n",
    "2. remove items \n",
    "3. choose a random element in the collection with equal probability\n",
    "\n",
    "\n",
    "\n",
    "assume all values are integers \n",
    "\n",
    "\n"
   ]
  },
  {
   "cell_type": "code",
   "execution_count": 20,
   "id": "7e812bfa",
   "metadata": {},
   "outputs": [],
   "source": [
    "import random\n",
    "class Store:\n",
    "    def __init__(self):\n",
    "        self.container = []\n",
    "        self.ref = {}\n",
    "    \n",
    "    def insert(self, value):\n",
    "        if value in self.ref:\n",
    "            return value\n",
    "    \n",
    "        self.container.append(value)\n",
    "        self.ref[value]= len(self.container) - 1\n",
    "    \n",
    "    def remove(self,value):\n",
    "        if value not in self.ref:\n",
    "            return value\n",
    "        index = self.ref[value]\n",
    "        self.container.pop(index)\n",
    "        self.ref.pop(value)\n",
    "    \n",
    "    def random_select(self):\n",
    "        \n",
    "        if self.container == []:\n",
    "            return []\n",
    "        \n",
    "        return random.choice(self.container)"
   ]
  },
  {
   "cell_type": "code",
   "execution_count": 21,
   "id": "9e329cc4",
   "metadata": {},
   "outputs": [],
   "source": [
    "# [3,4,4,5,del(5),rand, del(3)]\n",
    "#cont = [3,4]\n",
    "#ref = {3:0,4:1, }\n",
    "store1 = Store()"
   ]
  },
  {
   "cell_type": "code",
   "execution_count": 32,
   "id": "7203b33d",
   "metadata": {},
   "outputs": [
    {
     "data": {
      "text/plain": [
       "3"
      ]
     },
     "execution_count": 32,
     "metadata": {},
     "output_type": "execute_result"
    }
   ],
   "source": [
    "# store1.remove(5)\n",
    "store1.random_select()\n",
    "\n",
    "# store1.container"
   ]
  }
 ],
 "metadata": {
  "kernelspec": {
   "display_name": "Python 3.8.11 ('home')",
   "language": "python",
   "name": "python3"
  },
  "language_info": {
   "codemirror_mode": {
    "name": "ipython",
    "version": 3
   },
   "file_extension": ".py",
   "mimetype": "text/x-python",
   "name": "python",
   "nbconvert_exporter": "python",
   "pygments_lexer": "ipython3",
   "version": "3.8.11 (default, Aug 16 2021, 12:04:33) \n[Clang 12.0.0 ]"
  },
  "vscode": {
   "interpreter": {
    "hash": "dad69d25d7dd234d0c84790b765d77e7ff9d4fcba2c5519ae5fc79316fff4ebc"
   }
  }
 },
 "nbformat": 4,
 "nbformat_minor": 5
}
