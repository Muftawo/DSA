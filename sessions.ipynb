{
 "cells": [
  {
   "cell_type": "markdown",
   "metadata": {},
   "source": [
    "Question 1\n",
    "\n",
    "Write a that takes 2 integers N and K and an array of N integers as input. Your program should output the index in the array such that the number of occurrences of K before and after the index are the same. "
   ]
  },
  {
   "cell_type": "markdown",
   "metadata": {},
   "source": [
    "QUESTION 2:\n",
    "\n",
    " Alice has some cards with numbers written on them. She arranges the cards in decreasing order, and lays them out face down in a sequence on a table. She challenges Bob to pick out the card containing a given number by turning over as few cards as possible. Write a function to help Bob locate the card.\n"
   ]
  },
  {
   "cell_type": "markdown",
   "metadata": {},
   "source": []
  },
  {
   "cell_type": "markdown",
   "metadata": {},
   "source": [
    "1!10"
   ]
  },
  {
   "cell_type": "code",
   "execution_count": 2,
   "metadata": {},
   "outputs": [
    {
     "data": {
      "text/plain": [
       "0"
      ]
     },
     "execution_count": 2,
     "metadata": {},
     "output_type": "execute_result"
    }
   ],
   "source": [
    "10%10"
   ]
  },
  {
   "cell_type": "code",
   "execution_count": 1,
   "metadata": {},
   "outputs": [],
   "source": [
    "testCases={\n",
    "    \"test1\":{\n",
    "        \"test\":[1, 10, 100, -3],\n",
    "        \"expect\":1\n",
    "    },\n",
    "    \"test2\":{\n",
    "        \"test\":[-200, -100, 100, 10, -9, 9],\n",
    "        \"expect\":9\n",
    "    },\n",
    "    \"test3\":{\n",
    "        \"test\":[8, -200, -100, 100, 10, 9, -9],\n",
    "        \"expect\":8\n",
    "    },\n",
    "    \"test4\":{\n",
    "        \"test\":[-8, -200, -100, 100, 10, 9, -9],\n",
    "        \"expect\":-8\n",
    "    },\n",
    "    \"test5\":{\n",
    "        \"test\":[9, -9, -8, -200, -100, 100, 10, 9, -9],\n",
    "        \"expect\":-8\n",
    "    },\n",
    "    \"test6\":{\n",
    "        \"test\":[],\n",
    "        \"expect\":0\n",
    "    },\n",
    "    \"test7\":{\n",
    "        \"test\":[-273],\n",
    "        \"expect\":-273\n",
    "    },\n",
    "    \"test8\":{\n",
    "        \"test\":[5526, 5525],\n",
    "        \"expect\":5525\n",
    "    }\n",
    "}\n"
   ]
  },
  {
   "cell_type": "code",
   "execution_count": 16,
   "metadata": {},
   "outputs": [
    {
     "name": "stdout",
     "output_type": "stream",
     "text": [
      "test1\n",
      "[1, 10, 100, -3]\n",
      "1\n",
      "test2\n",
      "[-200, -100, 100, 10, -9, 9]\n",
      "9\n",
      "test3\n",
      "[8, -200, -100, 100, 10, 9, -9]\n",
      "8\n",
      "test4\n",
      "[-8, -200, -100, 100, 10, 9, -9]\n",
      "-8\n",
      "test5\n",
      "[9, -9, -8, -200, -100, 100, 10, 9, -9]\n",
      "-8\n",
      "test6\n",
      "[]\n",
      "0\n",
      "test7\n",
      "[-273]\n",
      "-273\n",
      "test8\n",
      "[5526, 5525]\n",
      "5525\n"
     ]
    }
   ],
   "source": [
    "for i,v in testCases.items():\n",
    "    print(i)\n",
    "    print(v[\"test\"])\n",
    "    print(v[\"expect\"])"
   ]
  },
  {
   "cell_type": "code",
   "execution_count": 66,
   "metadata": {},
   "outputs": [],
   "source": [
    "def findMin(arr):\n",
    "    closest=0\n",
    "    if len(arr)==0:\n",
    "        return closest\n",
    "   \n",
    "    for i in arr:\n",
    "        \n",
    "        if abs(i)<abs(closest):\n",
    "            closest=i\n",
    "        elif abs(i) == abs(closest) and closest<0:\n",
    "            closest=1\n",
    "       \n",
    "    return closest\n"
   ]
  },
  {
   "cell_type": "code",
   "execution_count": 67,
   "metadata": {},
   "outputs": [
    {
     "name": "stdout",
     "output_type": "stream",
     "text": [
      "test1\n",
      "arr [1, 10, 100, -3]\n",
      "result 0\n",
      "expect 1\n",
      "test1 was wrong\n",
      "test2\n",
      "arr [-200, -100, 100, 10, -9, 9]\n",
      "result 0\n",
      "expect 9\n",
      "test2 was wrong\n",
      "test3\n",
      "arr [8, -200, -100, 100, 10, 9, -9]\n",
      "result 0\n",
      "expect 8\n",
      "test3 was wrong\n",
      "test4\n",
      "arr [-8, -200, -100, 100, 10, 9, -9]\n",
      "result 0\n",
      "expect -8\n",
      "test4 was wrong\n",
      "test5\n",
      "arr [9, -9, -8, -200, -100, 100, 10, 9, -9]\n",
      "result 0\n",
      "expect -8\n",
      "test5 was wrong\n",
      "test6\n",
      "arr []\n",
      "result 0\n",
      "expect 0\n",
      "test6 was correct\n",
      "test7\n",
      "arr [-273]\n",
      "result 0\n",
      "expect -273\n",
      "test7 was wrong\n",
      "test8\n",
      "arr [5526, 5525]\n",
      "result 0\n",
      "expect 5525\n",
      "test8 was wrong\n",
      "you had 1 and 7 wrong, out of 8 correct\n"
     ]
    }
   ],
   "source": [
    "correct=0\n",
    "wrong=0\n",
    "for i,v in testCases.items():\n",
    "    print(i)\n",
    "    print(\"arr\",v[\"test\"] )\n",
    "    print(\"result\",findMin(v[\"test\"]))\n",
    "    print(\"expect\",v[\"expect\"])\n",
    "    if findMin(v[\"test\"])==v[\"expect\"]:\n",
    "        correct+=1\n",
    "        print(f\"{i} was correct\")\n",
    "    if findMin(v[\"test\"])!=v[\"expect\"]:\n",
    "        wrong+=1\n",
    "        print(f\"{i} was wrong\")\n",
    "    # assert findMin(v[\"test\"])==(v[\"expect\"])\n",
    "print(f\"you had {correct} and {wrong} wrong, out of {len(testCases)} correct\")\n"
   ]
  },
  {
   "cell_type": "code",
   "execution_count": 53,
   "metadata": {},
   "outputs": [
    {
     "name": "stdout",
     "output_type": "stream",
     "text": [
      "current closest 0\n",
      "element............. 9\n",
      "distance--- 9\n",
      "current closest 9\n",
      "element............. -9\n",
      "distance--- 9\n",
      "current closest -9\n",
      "element............. -8\n",
      "distance--- 8\n",
      "current closest -8\n",
      "element............. -200\n",
      "distance--- 200\n",
      "current closest -8\n",
      "element............. -100\n",
      "distance--- 100\n",
      "current closest -8\n",
      "element............. 100\n",
      "distance--- 100\n",
      "current closest -8\n",
      "element............. 10\n",
      "distance--- 10\n",
      "current closest -8\n",
      "element............. 9\n",
      "distance--- 9\n",
      "current closest 9\n",
      "element............. -9\n",
      "distance--- 9\n"
     ]
    },
    {
     "data": {
      "text/plain": [
       "-9"
      ]
     },
     "execution_count": 53,
     "metadata": {},
     "output_type": "execute_result"
    }
   ],
   "source": [
    "findMin([9, -9, -8, -200, -100, 100, 10, 9, -9])"
   ]
  },
  {
   "cell_type": "code",
   "execution_count": 55,
   "metadata": {
    "vscode": {
     "languageId": "javascript"
    }
   },
   "outputs": [
    {
     "ename": "SyntaxError",
     "evalue": "invalid syntax (<ipython-input-55-b3acc505219f>, line 1)",
     "output_type": "error",
     "traceback": [
      "\u001b[0;36m  Input \u001b[0;32mIn [55]\u001b[0;36m\u001b[0m\n\u001b[0;31m    **()\u001b[0m\n\u001b[0m    ^\u001b[0m\n\u001b[0;31mSyntaxError\u001b[0m\u001b[0;31m:\u001b[0m invalid syntax\n"
     ]
    }
   ],
   "source": [
    "/**\n",
    " * From a collection of numbers inside an array, returns the closest value to zero.\n",
    " */\n",
    " function closestToZero(numbers) {\n",
    "    if(!numbers.length){\n",
    "        return 0;\n",
    "    }\n",
    "    \n",
    "    let closest = 0;\n",
    "    \n",
    "    for (let i = 0; i < numbers.length ; i++) {\n",
    "        if (closest === 0) {\n",
    "            closest = numbers[i];\n",
    "        } else if (numbers[i] > 0 && numbers[i] <= Math.abs(closest)) {\n",
    "            closest = numbers[i];\n",
    "        } else if (numbers[i] < 0 && - numbers[i] < Math.abs(closest)) {\n",
    "            closest = numbers[i];\n",
    "        }\n",
    "    }\n",
    "    \n",
    "    return closest;\n",
    "}"
   ]
  },
  {
   "cell_type": "code",
   "execution_count": 63,
   "metadata": {},
   "outputs": [],
   "source": [
    "def closesToZero(arr):\n",
    "    if len(arr)==0:\n",
    "        return 0 \n",
    "    closest=arr[0]\n",
    "    for i in arr:\n",
    "        #if number if positive\n",
    "        if i > 0 and i <= abs(closest):\n",
    "            closest=i\n",
    "        # if number is negative\n",
    "        elif i <0 and - i < abs(closest):\n",
    "            closest=i\n",
    "    return closest\n"
   ]
  },
  {
   "cell_type": "code",
   "execution_count": 64,
   "metadata": {},
   "outputs": [
    {
     "name": "stdout",
     "output_type": "stream",
     "text": [
      "test1\n",
      "arr [1, 10, 100, -3]\n",
      "result 1\n",
      "expect 1\n",
      "test1 was correct\n",
      "test2\n",
      "arr [-200, -100, 100, 10, -9, 9]\n",
      "result 9\n",
      "expect 9\n",
      "test2 was correct\n",
      "test3\n",
      "arr [8, -200, -100, 100, 10, 9, -9]\n",
      "result 8\n",
      "expect 8\n",
      "test3 was correct\n",
      "test4\n",
      "arr [-8, -200, -100, 100, 10, 9, -9]\n",
      "result -8\n",
      "expect -8\n",
      "test4 was correct\n",
      "test5\n",
      "arr [9, -9, -8, -200, -100, 100, 10, 9, -9]\n",
      "result -8\n",
      "expect -8\n",
      "test5 was correct\n",
      "test6\n",
      "arr []\n",
      "result 0\n",
      "expect 0\n",
      "test6 was correct\n",
      "test7\n",
      "arr [-273]\n",
      "result -273\n",
      "expect -273\n",
      "test7 was correct\n",
      "test8\n",
      "arr [5526, 5525]\n",
      "result 5525\n",
      "expect 5525\n",
      "test8 was correct\n",
      "you had 8 and 0 wrong, out of 8 correct\n"
     ]
    }
   ],
   "source": [
    "correct=0\n",
    "wrong=0\n",
    "for i,v in testCases.items():\n",
    "    print(i)\n",
    "    print(\"arr\",v[\"test\"] )\n",
    "    print(\"result\",closesToZero(v[\"test\"]))\n",
    "    print(\"expect\",v[\"expect\"])\n",
    "    if closesToZero(v[\"test\"])==v[\"expect\"]:\n",
    "        correct+=1\n",
    "        print(f\"{i} was correct\")\n",
    "    if closesToZero(v[\"test\"])!=v[\"expect\"]:\n",
    "        wrong+=1\n",
    "        print(f\"{i} was wrong\")\n",
    "    # assert findMin(v[\"test\"])==(v[\"expect\"])\n",
    "print(f\"you had {correct} and {wrong} wrong, out of {len(testCases)} correct\")"
   ]
  },
  {
   "cell_type": "code",
   "execution_count": 65,
   "metadata": {},
   "outputs": [
    {
     "data": {
      "text/plain": [
       "1"
      ]
     },
     "execution_count": 65,
     "metadata": {},
     "output_type": "execute_result"
    }
   ],
   "source": [
    "closesToZero([1, 10, 100, -3])"
   ]
  },
  {
   "cell_type": "code",
   "execution_count": null,
   "metadata": {},
   "outputs": [],
   "source": []
  }
 ],
 "metadata": {
  "interpreter": {
   "hash": "dad69d25d7dd234d0c84790b765d77e7ff9d4fcba2c5519ae5fc79316fff4ebc"
  },
  "kernelspec": {
   "display_name": "Python 3.8.11 ('home')",
   "language": "python",
   "name": "python3"
  },
  "language_info": {
   "codemirror_mode": {
    "name": "ipython",
    "version": 3
   },
   "file_extension": ".py",
   "mimetype": "text/x-python",
   "name": "python",
   "nbconvert_exporter": "python",
   "pygments_lexer": "ipython3",
   "version": "3.8.11"
  },
  "orig_nbformat": 4
 },
 "nbformat": 4,
 "nbformat_minor": 2
}
