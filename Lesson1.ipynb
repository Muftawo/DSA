{
 "cells": [
  {
   "cell_type": "markdown",
   "metadata": {},
   "source": [
    "# Binary Search, Linked List and Complexity"
   ]
  },
  {
   "cell_type": "markdown",
   "metadata": {},
   "source": [
    "## How to appraoch a DSA question \n",
    "\n",
    "Here's a systematic strategy we'll apply for solving problems:\n",
    "\n",
    "1. State the problem clearly. Identify the input & output formats.\n",
    "2. Come up with some example inputs & outputs. Try to cover all edge cases.\n",
    "3. Come up with a correct solution for the problem. State it in plain English.\n",
    "4. Implement the solution and test it using example inputs. Fix bugs, if any.\n",
    "5. Analyze the algorithm's complexity and identify inefficiencies, if any.\n",
    "6. Apply the right technique to overcome the inefficiency. Repeat steps 3 to 6.\n",
    "\n",
    "Applying the right technique\" is where the knowledge of common data structures and algorithms comes in handy.\n"
   ]
  },
  {
   "cell_type": "markdown",
   "metadata": {},
   "source": [
    "### Binary Search"
   ]
  },
  {
   "cell_type": "markdown",
   "metadata": {},
   "source": [
    "QUESTION 1:\n",
    "\n",
    " Alice has some cards with numbers written on them. She arranges the cards in decreasing order, and lays them out face down in a sequence on a table. She challenges Bob to pick out the card containing a given number by turning over as few cards as possible. Write a function to help Bob locate the card.\n",
    "\n"
   ]
  },
  {
   "cell_type": "code",
   "execution_count": 29,
   "metadata": {},
   "outputs": [],
   "source": [
    "#write test case in dict \n",
    "#what if query is not in card\n",
    "test_1 = {\n",
    "    \"input\": {\n",
    "        \"cards\": [],\n",
    "        \"query\": 3\n",
    "    },\n",
    "    \"output\": -1\n",
    "}\n",
    "#what if query appears more than once\n",
    "test_2={\n",
    "    \"input\": {\n",
    "        \"cards\": [20,3,3,6,7,8],\n",
    "        \"query\": 3\n",
    "    },\n",
    "    \"output\": 1\n",
    "    }\n",
    "test_3={\n",
    "    \"input\": {\n",
    "        \"cards\": [20,3,3,6,7,8],\n",
    "        \"query\": 8\n",
    "    },\n",
    "    \"output\": 5\n",
    "}\n",
    "\n",
    "test_cases=[]\n",
    "test_cases.append(test_1)\n",
    "test_cases.append(test_2)\n",
    "test_cases.append(test_3)"
   ]
  },
  {
   "cell_type": "code",
   "execution_count": 26,
   "metadata": {},
   "outputs": [],
   "source": [
    "\n",
    "def locate_card(cards, query):\n",
    "    if query not in cards:\n",
    "        return -1\n",
    "    \n",
    "    if cards.count(query) > 1:\n",
    "        print(f\"{query} occurse  {cards.count(query)} times in the list\")\n",
    "        return f\"The first occurance of the query is at index {cards.index(query)}\"\n",
    "\n",
    "    return cards.index(query)\n",
    "\n",
    "\n",
    "    \n",
    "        "
   ]
  },
  {
   "cell_type": "code",
   "execution_count": 31,
   "metadata": {},
   "outputs": [
    {
     "data": {
      "text/plain": [
       "-1"
      ]
     },
     "execution_count": 31,
     "metadata": {},
     "output_type": "execute_result"
    }
   ],
   "source": [
    "locate_card(**test_1[\"input\"])\n",
    "\n"
   ]
  },
  {
   "cell_type": "code",
   "execution_count": null,
   "metadata": {},
   "outputs": [],
   "source": []
  },
  {
   "cell_type": "code",
   "execution_count": 24,
   "metadata": {},
   "outputs": [
    {
     "data": {
      "text/plain": [
       "[1, 3, 4, 5, 5, 6, 76]"
      ]
     },
     "execution_count": 24,
     "metadata": {},
     "output_type": "execute_result"
    }
   ],
   "source": [
    "cards"
   ]
  },
  {
   "cell_type": "code",
   "execution_count": 1,
   "metadata": {},
   "outputs": [],
   "source": [
    "def encode(input_string):\n",
    "    count = 1\n",
    "    prev = \"\"\n",
    "    lst = []\n",
    "    for character in input_string:\n",
    "        if character != prev:\n",
    "            if prev:\n",
    "                entry = (prev, count)\n",
    "                lst.append(entry)\n",
    "            count = 1\n",
    "            prev = character\n",
    "        else:\n",
    "            count += 1\n",
    "    entry = (character, count)\n",
    "    lst.append(entry)\n",
    "    return lst\n",
    "\n",
    "\n",
    "def decode(lst):\n",
    "    q = \"\"\n",
    "    for character, count in lst:\n",
    "        q += character * count\n",
    "    return q"
   ]
  },
  {
   "cell_type": "code",
   "execution_count": 2,
   "metadata": {},
   "outputs": [],
   "source": [
    "from hypothesis import given, strategies\n",
    "\n",
    "\n",
    "\n",
    "@given(strategies.text())\n",
    "def test_decode_inverts_encode(s):\n",
    "    assert decode(encode(s)) == s"
   ]
  },
  {
   "cell_type": "code",
   "execution_count": 17,
   "metadata": {},
   "outputs": [],
   "source": [
    "\n",
    "\n",
    "\n",
    "def mid_of_k(n,k, arr):\n",
    "    assert n == len(arr)\n",
    "    assert k in arr\n",
    "    begin_index = 0\n",
    "    end_index = n - 1\n",
    "    while begin_index <= end_index:\n",
    "        mid_index = (begin_index + end_index) // 2\n",
    "        print(f\"begin_index: {begin_index}, end_index: {end_index}, mid_index: {mid_index}\")\n",
    "        if arr[:mid_index].count(k) == arr[mid_index+1:].count(k):\n",
    "            return mid_index\n",
    "        elif arr[:mid_index].count(k) > arr[mid_index+1:].count(k):\n",
    "            end_index = mid_index - 1\n",
    "        elif arr[:mid_index].count(k) < arr[mid_index+1:].count(k):\n",
    "            begin_index = mid_index + 1\n",
    "    return \"Something is wrong\"\n"
   ]
  },
  {
   "cell_type": "code",
   "execution_count": 18,
   "metadata": {},
   "outputs": [
    {
     "name": "stdout",
     "output_type": "stream",
     "text": [
      "begin_index: 0, end_index: 4, mid_index: 2\n",
      "begin_index: 3, end_index: 4, mid_index: 3\n"
     ]
    },
    {
     "data": {
      "text/plain": [
       "3"
      ]
     },
     "execution_count": 18,
     "metadata": {},
     "output_type": "execute_result"
    }
   ],
   "source": [
    "N= 5\n",
    "K = 3\n",
    "arr = [1,2,3,3,3]\n",
    "\n",
    "mid_of_k(N,K,arr)"
   ]
  },
  {
   "cell_type": "code",
   "execution_count": 8,
   "metadata": {},
   "outputs": [
    {
     "ename": "AssertionError",
     "evalue": "",
     "output_type": "error",
     "traceback": [
      "\u001b[0;31m---------------------------------------------------------------------------\u001b[0m",
      "\u001b[0;31mAssertionError\u001b[0m                            Traceback (most recent call last)",
      "\u001b[1;32m/Users/mufti/Muftawo/DSA/Lesson1.ipynb Cell 14'\u001b[0m in \u001b[0;36m<cell line: 1>\u001b[0;34m()\u001b[0m\n\u001b[0;32m----> <a href='vscode-notebook-cell:/Users/mufti/Muftawo/DSA/Lesson1.ipynb#ch0000013?line=0'>1</a>\u001b[0m \u001b[39massert\u001b[39;00m \u001b[39m5\u001b[39m \u001b[39min\u001b[39;00m k\n",
      "\u001b[0;31mAssertionError\u001b[0m: "
     ]
    }
   ],
   "source": [
    "assert 5 in k"
   ]
  },
  {
   "cell_type": "code",
   "execution_count": null,
   "metadata": {},
   "outputs": [],
   "source": []
  }
 ],
 "metadata": {
  "interpreter": {
   "hash": "dad69d25d7dd234d0c84790b765d77e7ff9d4fcba2c5519ae5fc79316fff4ebc"
  },
  "kernelspec": {
   "display_name": "Python 3.8.11 ('home')",
   "language": "python",
   "name": "python3"
  },
  "language_info": {
   "codemirror_mode": {
    "name": "ipython",
    "version": 3
   },
   "file_extension": ".py",
   "mimetype": "text/x-python",
   "name": "python",
   "nbconvert_exporter": "python",
   "pygments_lexer": "ipython3",
   "version": "3.8.11"
  },
  "orig_nbformat": 4
 },
 "nbformat": 4,
 "nbformat_minor": 2
}
